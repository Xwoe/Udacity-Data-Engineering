{
 "cells": [
  {
   "cell_type": "markdown",
   "metadata": {},
   "source": [
    "# Data Lake"
   ]
  },
  {
   "cell_type": "markdown",
   "metadata": {},
   "source": [
    "- read in raw tables. Transform and store as parquet files.\n",
    "- optionally store the data in some additional database as extra stuff (probably not, just tell that you do this in the case that you get 100x more traffic)"
   ]
  },
  {
   "cell_type": "code",
   "execution_count": null,
   "metadata": {},
   "outputs": [],
   "source": []
  },
  {
   "cell_type": "code",
   "execution_count": null,
   "metadata": {},
   "outputs": [],
   "source": []
  },
  {
   "cell_type": "markdown",
   "metadata": {},
   "source": [
    "# Purpose"
   ]
  },
  {
   "cell_type": "markdown",
   "metadata": {},
   "source": [
    "The company \"Travel Reasons\" aims to provide an insights data source to find more out about why and how people travel. As a start they focus on the US as a main market, but are trying to expand. They are also providing an NGO with their data. They want to find out, how people travel and how long they stay for various reasons. For now they want to analyse the data asking questions like:\n",
    "- How much CO2 could be avoided by avoiding short business trips?\n",
    "- How much CO2 does tourism cause?\n",
    "\n",
    "Later on they also want to investigate the correlation between climate change and people immigrating to the US and the correlation of flight prices and the number of flights taken, but good data sources for this will have to be implemented at a later stage."
   ]
  },
  {
   "cell_type": "code",
   "execution_count": null,
   "metadata": {},
   "outputs": [],
   "source": []
  }
 ],
 "metadata": {
  "kernelspec": {
   "display_name": "Python 3",
   "language": "python",
   "name": "python3"
  },
  "language_info": {
   "codemirror_mode": {
    "name": "ipython",
    "version": 3
   },
   "file_extension": ".py",
   "mimetype": "text/x-python",
   "name": "python",
   "nbconvert_exporter": "python",
   "pygments_lexer": "ipython3",
   "version": "3.7.2"
  }
 },
 "nbformat": 4,
 "nbformat_minor": 2
}
