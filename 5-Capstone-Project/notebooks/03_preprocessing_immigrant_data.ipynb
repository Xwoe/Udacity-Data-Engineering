{
 "cells": [
  {
   "cell_type": "code",
   "execution_count": 209,
   "metadata": {},
   "outputs": [],
   "source": [
    "import os\n",
    "import pandas as pd\n",
    "import numpy as np\n",
    "from pyspark.sql import SparkSession\n",
    "from pyspark.sql import SparkSession\n",
    "import pyspark.sql.functions as F\n",
    "import pyspark.sql.types as T\n",
    "from itertools import chain\n",
    "from pyspark.sql.functions import udf\n",
    "from functools import reduce"
   ]
  },
  {
   "cell_type": "code",
   "execution_count": 183,
   "metadata": {},
   "outputs": [],
   "source": [
    "DATAFOLDER = '/Users/christian/Data/udacity_capstone/'\n",
    "OUTPUTFOLDER = '/Users/christian/Data/udacity_capstone/output'"
   ]
  },
  {
   "cell_type": "code",
   "execution_count": 184,
   "metadata": {},
   "outputs": [],
   "source": [
    "def get_immi_schema():\n",
    "    \"\"\"\n",
    "    Map the column names to datatypes and return as a schema.\n",
    "    \"\"\"\n",
    "    immi_schema = T.StructType([\n",
    "        T.StructField('cicid', T.IntegerType()),\n",
    "        T.StructField('i94yr', T.StringType()),\n",
    "        T.StructField('i94mon', T.StringType()),\n",
    "        T.StructField('i94cit', T.StringType()),\n",
    "        T.StructField('i94res', T.IntegerType()),\n",
    "        T.StructField('i94port', T.StringType()),\n",
    "        T.StructField('arrdate', T.StringType()),\n",
    "        T.StructField('i94mode', T.StringType()),\n",
    "        T.StructField('i94addr', T.StringType()),\n",
    "        T.StructField('depdate', T.StringType()),\n",
    "        T.StructField('i94bir', T.StringType()),\n",
    "        T.StructField('i94visa', T.StringType()),\n",
    "        T.StructField('count',  T.IntegerType()),\n",
    "        T.StructField('dtadfile', T.StringType()),\n",
    "        T.StructField('visapost', T.IntegerType()),\n",
    "        T.StructField('occup', T.StringType()),\n",
    "        T.StructField('entdepa', T.StringType()),\n",
    "        T.StructField('entdepd', T.IntegerType()),\n",
    "        T.StructField('entdepu', T.StringType()),\n",
    "        T.StructField('matflag', T.StringType()),\n",
    "        T.StructField('biryear', T.StringType()),\n",
    "        T.StructField('dtaddto', T.StringType()),\n",
    "        T.StructField('gender', T.StringType()),\n",
    "        T.StructField('insnum', T.StringType()),\n",
    "        T.StructField('airline', T.StringType()),\n",
    "        T.StructField('admnum', T.StringType()),\n",
    "        T.StructField('fltno', T.StringType()),\n",
    "        T.StructField('visatype', T.StringType()),\n",
    "    ])\n",
    "    return immi_schema\n"
   ]
  },
  {
   "cell_type": "code",
   "execution_count": 4,
   "metadata": {},
   "outputs": [],
   "source": [
    "schema = get_immi_schema()\n"
   ]
  },
  {
   "cell_type": "code",
   "execution_count": 5,
   "metadata": {},
   "outputs": [],
   "source": [
    "\n",
    "spark = SparkSession.builder.\\\n",
    "config(\"spark.jars.packages\",\"saurfang:spark-sas7bdat:2.0.0-s_2.11\")\\\n",
    ".enableHiveSupport().getOrCreate()\n",
    "#df_spark = spark.read.format('com.github.saurfang.sas.spark').load('../../data/18-83510-I94-Data-2016/i94_apr16_sub.sas7bdat')\n",
    "df_spark = spark.read.option(\"mergeSchema\", \"true\").parquet(os.path.join(DATAFOLDER, 'sas_data'))"
   ]
  },
  {
   "cell_type": "markdown",
   "metadata": {},
   "source": [
    "# convert data types"
   ]
  },
  {
   "cell_type": "code",
   "execution_count": 6,
   "metadata": {},
   "outputs": [],
   "source": [
    "df_spark = df_spark.withColumn('i94yr', df_spark['i94yr'].cast(T.IntegerType())).\\\n",
    "        withColumn('i94mon', df_spark['i94mon'].cast(T.IntegerType())).\\\n",
    "        withColumn('i94cit', df_spark['i94cit'].cast(T.IntegerType())).\\\n",
    "        withColumn('i94res', df_spark['i94res'].cast(T.IntegerType())).\\\n",
    "        withColumn('arrdate', df_spark['arrdate'].cast(T.IntegerType())).\\\n",
    "        withColumn('i94mode', df_spark['i94mode'].cast(T.IntegerType())).\\\n",
    "        withColumn('depdate', df_spark['depdate'].cast(T.IntegerType())).\\\n",
    "        withColumn('i94bir', df_spark['i94bir'].cast(T.IntegerType())).\\\n",
    "        withColumn('i94visa', df_spark['i94visa'].cast(T.IntegerType())).\\\n",
    "        withColumn('count', df_spark['count'].cast(T.IntegerType())).\\\n",
    "        withColumn('biryear', df_spark['biryear'].cast(T.IntegerType())).\\\n",
    "        withColumn('admnum', df_spark['admnum'].cast(T.IntegerType()))"
   ]
  },
  {
   "cell_type": "code",
   "execution_count": 13,
   "metadata": {},
   "outputs": [],
   "source": [
    "df_sample = pd.read_csv(os.path.join(DATAFOLDER, 'immigration_data_sample.csv'))"
   ]
  },
  {
   "cell_type": "code",
   "execution_count": 14,
   "metadata": {},
   "outputs": [
    {
     "data": {
      "text/plain": [
       "Row(cicid=459651.0, i94yr=2016, i94mon=4, i94cit=135, i94res=135, i94port='ATL', arrdate=20547, i94mode=1, i94addr='FL', depdate=20559, i94bir=54, i94visa=2, count=1, dtadfile='20160403', visapost=None, occup=None, entdepa='O', entdepd='R', entdepu=None, matflag='M', biryear=1962, dtaddto='07012016', gender=None, insnum=None, airline='VS', admnum=2147483647, fltno='00115', visatype='WT')"
      ]
     },
     "execution_count": 14,
     "metadata": {},
     "output_type": "execute_result"
    }
   ],
   "source": [
    "df_spark.head()"
   ]
  },
  {
   "cell_type": "code",
   "execution_count": 77,
   "metadata": {},
   "outputs": [],
   "source": [
    "df_time = df_spark\n",
    "df_time = df_time.withColumn(\"arrival_date\", F.expr(\"date_add(to_date('1960-01-01'), arrdate)\"))\n",
    "df_time = df_time.withColumn(\"depart_date\", F.expr(\"date_add(to_date('1960-01-01'), depdate)\"))\n"
   ]
  },
  {
   "cell_type": "code",
   "execution_count": 80,
   "metadata": {},
   "outputs": [
    {
     "name": "stdout",
     "output_type": "stream",
     "text": [
      "+--------+-----+------+------+------+-------+-------+-------+-------+-------+------+-------+-----+--------+--------+-----+-------+-------+-------+-------+-------+--------+------+------+-------+----------+-----+--------+------------+-----------+---------+\n",
      "|   cicid|i94yr|i94mon|i94cit|i94res|i94port|arrdate|i94mode|i94addr|depdate|i94bir|i94visa|count|dtadfile|visapost|occup|entdepa|entdepd|entdepu|matflag|biryear| dtaddto|gender|insnum|airline|    admnum|fltno|visatype|arrival_date|depart_date|diff_days|\n",
      "+--------+-----+------+------+------+-------+-------+-------+-------+-------+------+-------+-----+--------+--------+-----+-------+-------+-------+-------+-------+--------+------+------+-------+----------+-----+--------+------------+-----------+---------+\n",
      "|459651.0| 2016|     4|   135|   135|    ATL|  20547|      1|     FL|  20559|    54|      2|    1|20160403|    null| null|      O|      R|   null|      M|   1962|07012016|  null|  null|     VS|2147483647|00115|      WT|  2016-04-03| 2016-04-15|       12|\n",
      "|459652.0| 2016|     4|   135|   135|    ATL|  20547|      1|     FL|  20555|    74|      2|    1|20160403|    null| null|      T|      O|   null|      M|   1942|07012016|     F|  null|     VS| 674406485|  103|      WT|  2016-04-03| 2016-04-11|        8|\n",
      "|459653.0| 2016|     4|   135|   135|    ATL|  20547|      1|     FL|  20557|    44|      2|    1|20160403|    null| null|      T|      Q|   null|      M|   1972|10022016|     M|  null|     VS| 674948185|  109|      B2|  2016-04-03| 2016-04-13|       10|\n",
      "|459654.0| 2016|     4|   135|   135|    ATL|  20547|      1|      G|  20555|    38|      2|    1|20160403|    null| null|      O|      O|   null|      M|   1978|07012016|  null|  null|     VS|2147483647|00103|      WT|  2016-04-03| 2016-04-11|        8|\n",
      "|459655.0| 2016|     4|   135|   135|    ATL|  20547|      1|     GA|   null|    64|      2|    1|20160403|    null| null|      G|   null|   null|   null|   1952|07012016|     F|  null|     VS|2147483647|00103|      WT|  2016-04-03|       null|     null|\n",
      "|459656.0| 2016|     4|   135|   135|    ATL|  20547|      1|     GA|   null|    63|      2|    1|20160403|    null| null|      G|   null|   null|   null|   1953|07012016|     M|  null|     BA|2147483647|00227|      WT|  2016-04-03|       null|     null|\n",
      "|459657.0| 2016|     4|   135|   135|    ATL|  20547|      1|     GA|  20548|    44|      1|    1|20160403|    null| null|      G|      I|   null|      M|   1972|07012016|     M|  null|     BA|2147483647|00227|      WB|  2016-04-03| 2016-04-04|        1|\n",
      "|459658.0| 2016|     4|   135|   135|    ATL|  20547|      1|     GA|  20548|    39|      1|    1|20160403|    null| null|      G|      I|   null|      M|   1977|07012016|     M|  null|     BA|2147483647|00227|      WB|  2016-04-03| 2016-04-04|        1|\n",
      "|459659.0| 2016|     4|   135|   135|    ATL|  20547|      1|     GA|  20573|    84|      2|    1|20160403|    null| null|      G|      I|   null|      M|   1932|07012016|     M|  null|     BA|2147483647|00227|      WT|  2016-04-03| 2016-04-29|       26|\n",
      "|459660.0| 2016|     4|   135|   135|    ATL|  20547|      1|     GA|  20555|    55|      2|    1|20160403|    null| null|      G|      N|   null|      M|   1961|07012016|     M|  null|     BA|2147483647|00227|      WT|  2016-04-03| 2016-04-11|        8|\n",
      "|459661.0| 2016|     4|   135|   135|    ATL|  20547|      1|     GA|  20555|    54|      2|    1|20160403|    null| null|      G|      N|   null|      M|   1962|07012016|     M|  null|     BA|2147483647|00227|      WT|  2016-04-03| 2016-04-11|        8|\n",
      "|459662.0| 2016|     4|   135|   135|    ATL|  20547|      1|     GA|  20548|    36|      2|    1|20160403|    null| null|      G|      O|   null|      M|   1980|07012016|     M|  null|     DL|2147483647|00349|      WT|  2016-04-03| 2016-04-04|        1|\n",
      "|459663.0| 2016|     4|   135|   135|    ATL|  20547|      1|     GA|  20549|    71|      1|    1|20160403|    null| null|      G|      O|   null|      M|   1945|07012016|     M|  null|     DL|2147483647|00031|      WB|  2016-04-03| 2016-04-05|        2|\n",
      "|459664.0| 2016|     4|   135|   135|    ATL|  20547|      1|     GA|  20549|    39|      2|    1|20160403|    null| null|      G|      O|   null|      M|   1977|07012016|     M|  null|     VS|2147483647|00109|      WT|  2016-04-03| 2016-04-05|        2|\n",
      "|459665.0| 2016|     4|   135|   135|    ATL|  20547|      1|     GA|  20550|    54|      1|    1|20160403|    null| null|      G|      O|   null|      M|   1962|07012016|     M|  null|     BA|2147483647|00227|      WB|  2016-04-03| 2016-04-06|        3|\n",
      "|459666.0| 2016|     4|   135|   135|    ATL|  20547|      1|     GA|  20550|    51|      1|    1|20160403|    null| null|      G|      O|   null|      M|   1965|07012016|     M|  null|     BA|2147483647|00227|      WB|  2016-04-03| 2016-04-06|        3|\n",
      "|459667.0| 2016|     4|   135|   135|    ATL|  20547|      1|     GA|  20550|    43|      1|    1|20160403|    null| null|      G|      O|   null|      M|   1973|07012016|     M|  null|     DL|2147483647|00031|      WB|  2016-04-03| 2016-04-06|        3|\n",
      "|459668.0| 2016|     4|   135|   135|    ATL|  20547|      1|     GA|  20550|    37|      1|    1|20160403|    null| null|      G|      O|   null|      M|   1979|07012016|     F|  null|     DL|2147483647|00029|      WB|  2016-04-03| 2016-04-06|        3|\n",
      "|459669.0| 2016|     4|   135|   135|    ATL|  20547|      1|     GA|  20550|    33|      1|    1|20160403|    null| null|      G|      O|   null|      M|   1983|07012016|     F|  null|     VS|2147483647|00109|      WB|  2016-04-03| 2016-04-06|        3|\n",
      "|459670.0| 2016|     4|   135|   135|    ATL|  20547|      1|     GA|  20550|    50|      1|    1|20160403|    null| null|      G|      O|   null|      M|   1966|07012016|     M|  null|     DL|2147483647|00031|      WB|  2016-04-03| 2016-04-06|        3|\n",
      "+--------+-----+------+------+------+-------+-------+-------+-------+-------+------+-------+-----+--------+--------+-----+-------+-------+-------+-------+-------+--------+------+------+-------+----------+-----+--------+------------+-----------+---------+\n",
      "only showing top 20 rows\n",
      "\n"
     ]
    }
   ],
   "source": [
    "df_time.withColumn(\"diff_days\", F.datediff(\"depart_date\", \"arrival_date\")).show()"
   ]
  },
  {
   "cell_type": "markdown",
   "metadata": {},
   "source": [
    "## map i94addrl - state"
   ]
  },
  {
   "cell_type": "code",
   "execution_count": 109,
   "metadata": {},
   "outputs": [],
   "source": [
    "\n",
    "def map_col(df, map_col_name, df_col_name, new_col_name):\n",
    "    \"\"\"\n",
    "    \n",
    "    Parameters\n",
    "    ----------\n",
    "    df : spark dataframe\n",
    "        The file containing the df_col_name to be used for mapping.\n",
    "    map_col_name : str\n",
    "        The column name of the mapping file.\n",
    "    df_col_name : str\n",
    "        The column name in the Spark dataframe to be used.\n",
    "    new_col_name : str\n",
    "        New column name of the mapping results.\n",
    "    \n",
    "    \n",
    "    \"\"\"\n",
    "    df_map = pd.read_csv(os.path.join(DATAFOLDER, f'{map_col_name}.csv'), quotechar=\"'\")\n",
    "    dic_map = dict(zip(df_map['value'], df_map[map_col_name]))\n",
    "    mapping_expr = F.create_map([F.lit(x) for x in chain(*dic_map.items())])\n",
    "    return df.withColumn(new_col_name, mapping_expr[F.col(df_col_name)])\n",
    "\n",
    "\n",
    "\n",
    "@udf\n",
    "def udf_city_name(city_full):\n",
    "    splt = str.split(city_full, ',')\n",
    "    if len(splt) == 0:\n",
    "        return ''\n",
    "    return splt[0].capitalize().strip()\n",
    "\n",
    "@udf\n",
    "def udf_state_short(city_full):\n",
    "    splt = str.split(city_full, ',')\n",
    "    if len(splt) < 2:\n",
    "        return ''\n",
    "    return splt[1].strip()\n",
    "\n",
    "@udf\n",
    "def udf_state_format(port_state):\n",
    "    return port_state.capitalize()"
   ]
  },
  {
   "cell_type": "code",
   "execution_count": 110,
   "metadata": {},
   "outputs": [
    {
     "name": "stdout",
     "output_type": "stream",
     "text": [
      "+-------+\n",
      "|i94addr|\n",
      "+-------+\n",
      "|     CI|\n",
      "|     FT|\n",
      "|     SC|\n",
      "|     AZ|\n",
      "|     PU|\n",
      "|     UA|\n",
      "|     EA|\n",
      "|     NS|\n",
      "|     KI|\n",
      "|     PI|\n",
      "+-------+\n",
      "only showing top 10 rows\n",
      "\n"
     ]
    }
   ],
   "source": [
    "df_test.select(\"i94addr\").distinct().show(10)"
   ]
  },
  {
   "cell_type": "markdown",
   "metadata": {},
   "source": [
    "# TODO replace mapping in i94addrl to have names in captialize!"
   ]
  },
  {
   "cell_type": "code",
   "execution_count": 124,
   "metadata": {},
   "outputs": [],
   "source": [
    "#df, map_col_name, df_col_name, new_col_name\n",
    "df_test = df_time\n",
    "#df_test = map_col(df_test, 'i94prtl', 'i94port', 'port')\n",
    "\n",
    "# city name of arrival port\n",
    "#df_test = df_test.withColumn(\"port_city\", udf_city_name(\"port\"))\n",
    "df_test = map_col(df_test, 'i94prtl_city', 'i94port', 'port_city')\n",
    "#df_test = df_test.withColumn(\"port_state_short\", udf_state_short(\"port\"))\n",
    "df_test = map_col(df_test, 'i94prtl_state', 'i94port', 'port_state_short')\n",
    "df_test = map_col(df_test, 'i94addrl', 'port_state_short', 'port_state')\n",
    "#df_test = df_test.withColumn('port_state_2', udf_state_format('port_state'))\n",
    "\n",
    "# country of entry, country of citizenship\n",
    "df_test = map_col(df_test, 'i94cntyl', 'i94cit', 'state_cit')\n",
    "df_test = map_col(df_test, 'i94cntyl', 'i94res', 'state_res')\n",
    "#df_test = map_col(df_test, 'i94addrl', 'i94addr', 'port_state')\n",
    "df_test = map_col(df_test, 'i94visa', 'i94visa', 'visa')\n",
    "#df_test = df_test.withColumn(\"port_state\", udf_state_format(\"port_state\"))"
   ]
  },
  {
   "cell_type": "code",
   "execution_count": 125,
   "metadata": {},
   "outputs": [
    {
     "name": "stdout",
     "output_type": "stream",
     "text": [
      "+--------+-----+------+------+------+-------+-------+-------+-------+-------+------+-------+-----+--------+--------+-----+-------+-------+-------+-------+-------+--------+------+------+-------+----------+-----+--------+------------+-----------+-----------+----------------+----------+--------------+--------------+--------+\n",
      "|   cicid|i94yr|i94mon|i94cit|i94res|i94port|arrdate|i94mode|i94addr|depdate|i94bir|i94visa|count|dtadfile|visapost|occup|entdepa|entdepd|entdepu|matflag|biryear| dtaddto|gender|insnum|airline|    admnum|fltno|visatype|arrival_date|depart_date|  port_city|port_state_short|port_state|     state_cit|     state_res|    visa|\n",
      "+--------+-----+------+------+------+-------+-------+-------+-------+-------+------+-------+-----+--------+--------+-----+-------+-------+-------+-------+-------+--------+------+------+-------+----------+-----+--------+------------+-----------+-----------+----------------+----------+--------------+--------------+--------+\n",
      "|467106.0| 2016|     4|   135|   135|    LOS|  20547|      1|   null|   null|    41|      2|    1|20160403|    null| null|      G|   null|   null|   null|   1975|07012016|     F|  null|     NZ|2147483647|00018|      WT|  2016-04-03|       null|Los Angeles|              CA|California|United Kingdom|United Kingdom|Pleasure|\n",
      "|467150.0| 2016|     4|   135|   135|    LOS|  20547|      1|   null|  20548|    72|      2|    1|20160403|    null| null|      G|      O|   null|      M|   1944|07012016|     M|  null|     NZ|2147483647|00001|      WT|  2016-04-03| 2016-04-04|Los Angeles|              CA|California|United Kingdom|United Kingdom|Pleasure|\n",
      "|467151.0| 2016|     4|   135|   135|    LOS|  20547|      1|   null|  20548|    70|      2|    1|20160403|    null| null|      G|      O|   null|      M|   1946|07012016|     M|  null|     NZ|2147483647|00001|      WT|  2016-04-03| 2016-04-04|Los Angeles|              CA|California|United Kingdom|United Kingdom|Pleasure|\n",
      "|467152.0| 2016|     4|   135|   135|    LOS|  20547|      1|   null|  20548|    69|      2|    1|20160403|    null| null|      G|      O|   null|      M|   1947|07012016|     F|  null|     NZ|2147483647|00001|      WT|  2016-04-03| 2016-04-04|Los Angeles|              CA|California|United Kingdom|United Kingdom|Pleasure|\n",
      "|467153.0| 2016|     4|   135|   135|    LOS|  20547|      1|   null|  20548|    63|      2|    1|20160403|    null| null|      G|      O|   null|      M|   1953|07012016|     M|  null|     NZ|2147483647|00001|      WT|  2016-04-03| 2016-04-04|Los Angeles|              CA|California|United Kingdom|United Kingdom|Pleasure|\n",
      "|467154.0| 2016|     4|   135|   135|    LOS|  20547|      1|   null|  20548|    62|      2|    1|20160403|    null| null|      G|      O|   null|      M|   1954|07012016|     M|  null|     NZ|2147483647|00001|      WT|  2016-04-03| 2016-04-04|Los Angeles|              CA|California|United Kingdom|United Kingdom|Pleasure|\n",
      "|467155.0| 2016|     4|   135|   135|    LOS|  20547|      1|   null|  20548|    61|      2|    1|20160403|    null| null|      G|      O|   null|      M|   1955|07012016|     F|  null|     NZ|2147483647|00001|      WT|  2016-04-03| 2016-04-04|Los Angeles|              CA|California|United Kingdom|United Kingdom|Pleasure|\n",
      "|467156.0| 2016|     4|   135|   135|    LOS|  20547|      1|   null|  20548|    61|      2|    1|20160403|    null| null|      G|      O|   null|      M|   1955|07012016|     M|  null|     NZ|2147483647|00001|      WT|  2016-04-03| 2016-04-04|Los Angeles|              CA|California|United Kingdom|United Kingdom|Pleasure|\n",
      "|467157.0| 2016|     4|   135|   135|    LOS|  20547|      1|   null|  20548|    60|      2|    1|20160403|    null| null|      G|      O|   null|      M|   1956|07012016|     F|  null|     NZ|2147483647|00001|      WT|  2016-04-03| 2016-04-04|Los Angeles|              CA|California|United Kingdom|United Kingdom|Pleasure|\n",
      "|467158.0| 2016|     4|   135|   135|    LOS|  20547|      1|   null|  20548|    59|      2|    1|20160403|    null| null|      G|      O|   null|      M|   1957|07012016|     F|  null|     NZ|2147483647|00001|      WT|  2016-04-03| 2016-04-04|Los Angeles|              CA|California|United Kingdom|United Kingdom|Pleasure|\n",
      "|467159.0| 2016|     4|   135|   135|    LOS|  20547|      1|   null|  20548|    59|      2|    1|20160403|    null| null|      G|      O|   null|      M|   1957|07012016|     M|  null|     NZ|2147483647|00001|      WT|  2016-04-03| 2016-04-04|Los Angeles|              CA|California|United Kingdom|United Kingdom|Pleasure|\n",
      "|467160.0| 2016|     4|   135|   135|    LOS|  20547|      1|   null|  20548|    56|      2|    1|20160403|    null| null|      G|      O|   null|      M|   1960|07012016|     F|  null|     NZ|2147483647|00001|      WT|  2016-04-03| 2016-04-04|Los Angeles|              CA|California|United Kingdom|United Kingdom|Pleasure|\n",
      "|467161.0| 2016|     4|   135|   135|    LOS|  20547|      1|   null|  20548|    37|      2|    1|20160403|    null| null|      G|      O|   null|      M|   1979|07012016|     F|  null|     NZ|2147483647|00001|      WT|  2016-04-03| 2016-04-04|Los Angeles|              CA|California|United Kingdom|United Kingdom|Pleasure|\n",
      "|467162.0| 2016|     4|   135|   135|    LOS|  20547|      1|   null|  20548|    37|      2|    1|20160403|    null| null|      G|      O|   null|      M|   1979|07012016|     M|  null|     NZ|2147483647|00001|      WT|  2016-04-03| 2016-04-04|Los Angeles|              CA|California|United Kingdom|United Kingdom|Pleasure|\n",
      "|467163.0| 2016|     4|   135|   135|    LOS|  20547|      1|   null|  20548|    36|      2|    1|20160403|    null| null|      G|      O|   null|      M|   1980|07012016|     M|  null|     NZ|2147483647|00001|      WT|  2016-04-03| 2016-04-04|Los Angeles|              CA|California|United Kingdom|United Kingdom|Pleasure|\n",
      "|467164.0| 2016|     4|   135|   135|    LOS|  20547|      1|   null|  20548|    33|      2|    1|20160403|    null| null|      G|      O|   null|      M|   1983|07012016|     M|  null|     NZ|2147483647|00001|      WT|  2016-04-03| 2016-04-04|Los Angeles|              CA|California|United Kingdom|United Kingdom|Pleasure|\n",
      "|467165.0| 2016|     4|   135|   135|    LOS|  20547|      1|   null|  20548|    30|      2|    1|20160403|    null| null|      G|      O|   null|      M|   1986|07012016|     M|  null|     NZ|2147483647|00001|      WT|  2016-04-03| 2016-04-04|Los Angeles|              CA|California|United Kingdom|United Kingdom|Pleasure|\n",
      "|467166.0| 2016|     4|   135|   135|    LOS|  20547|      1|   null|  20548|    30|      2|    1|20160403|    null| null|      G|      O|   null|      M|   1986|07012016|     M|  null|     NZ|2147483647|00001|      WT|  2016-04-03| 2016-04-04|Los Angeles|              CA|California|United Kingdom|United Kingdom|Pleasure|\n",
      "|467167.0| 2016|     4|   135|   135|    LOS|  20547|      1|   null|  20548|    29|      2|    1|20160403|    null| null|      G|      O|   null|      M|   1987|07012016|     F|  null|     NZ|2147483647|00001|      WT|  2016-04-03| 2016-04-04|Los Angeles|              CA|California|United Kingdom|United Kingdom|Pleasure|\n",
      "|467168.0| 2016|     4|   135|   135|    LOS|  20547|      1|   null|  20548|    26|      2|    1|20160403|    null| null|      G|      O|   null|      M|   1990|07012016|     M|  null|     NZ|2147483647|00001|      WT|  2016-04-03| 2016-04-04|Los Angeles|              CA|California|United Kingdom|United Kingdom|Pleasure|\n",
      "+--------+-----+------+------+------+-------+-------+-------+-------+-------+------+-------+-----+--------+--------+-----+-------+-------+-------+-------+-------+--------+------+------+-------+----------+-----+--------+------------+-----------+-----------+----------------+----------+--------------+--------------+--------+\n",
      "only showing top 20 rows\n",
      "\n"
     ]
    }
   ],
   "source": [
    "df_test.where(F.col(\"i94port\") == 'LOS').show()"
   ]
  },
  {
   "cell_type": "code",
   "execution_count": 117,
   "metadata": {},
   "outputs": [
    {
     "name": "stdout",
     "output_type": "stream",
     "text": [
      "+--------+-----+------+------+------+-------+-------+-------+-------+-------+------+-------+-----+--------+--------+-----+-------+-------+-------+-------+-------+--------+------+------+-------+----------+-----+--------+------------+-----------+--------------------+---------+----------------+----------+--------------+--------------+--------+\n",
      "|   cicid|i94yr|i94mon|i94cit|i94res|i94port|arrdate|i94mode|i94addr|depdate|i94bir|i94visa|count|dtadfile|visapost|occup|entdepa|entdepd|entdepu|matflag|biryear| dtaddto|gender|insnum|airline|    admnum|fltno|visatype|arrival_date|depart_date|                port|port_city|port_state_short|port_state|     state_cit|     state_res|    visa|\n",
      "+--------+-----+------+------+------+-------+-------+-------+-------+-------+------+-------+-----+--------+--------+-----+-------+-------+-------+-------+-------+--------+------+------+-------+----------+-----+--------+------------+-----------+--------------------+---------+----------------+----------+--------------+--------------+--------+\n",
      "|459651.0| 2016|     4|   135|   135|    ATL|  20547|      1|     FL|  20559|    54|      2|    1|20160403|    null| null|      O|      R|   null|      M|   1962|07012016|  null|  null|     VS|2147483647|00115|      WT|  2016-04-03| 2016-04-15|ATLANTA, GA      ...|  Atlanta|              GA|   Georgia|United Kingdom|United Kingdom|Pleasure|\n",
      "|459652.0| 2016|     4|   135|   135|    ATL|  20547|      1|     FL|  20555|    74|      2|    1|20160403|    null| null|      T|      O|   null|      M|   1942|07012016|     F|  null|     VS| 674406485|  103|      WT|  2016-04-03| 2016-04-11|ATLANTA, GA      ...|  Atlanta|              GA|   Georgia|United Kingdom|United Kingdom|Pleasure|\n",
      "|459653.0| 2016|     4|   135|   135|    ATL|  20547|      1|     FL|  20557|    44|      2|    1|20160403|    null| null|      T|      Q|   null|      M|   1972|10022016|     M|  null|     VS| 674948185|  109|      B2|  2016-04-03| 2016-04-13|ATLANTA, GA      ...|  Atlanta|              GA|   Georgia|United Kingdom|United Kingdom|Pleasure|\n",
      "|459654.0| 2016|     4|   135|   135|    ATL|  20547|      1|      G|  20555|    38|      2|    1|20160403|    null| null|      O|      O|   null|      M|   1978|07012016|  null|  null|     VS|2147483647|00103|      WT|  2016-04-03| 2016-04-11|ATLANTA, GA      ...|  Atlanta|              GA|   Georgia|United Kingdom|United Kingdom|Pleasure|\n",
      "|459655.0| 2016|     4|   135|   135|    ATL|  20547|      1|     GA|   null|    64|      2|    1|20160403|    null| null|      G|   null|   null|   null|   1952|07012016|     F|  null|     VS|2147483647|00103|      WT|  2016-04-03|       null|ATLANTA, GA      ...|  Atlanta|              GA|   Georgia|United Kingdom|United Kingdom|Pleasure|\n",
      "|459656.0| 2016|     4|   135|   135|    ATL|  20547|      1|     GA|   null|    63|      2|    1|20160403|    null| null|      G|   null|   null|   null|   1953|07012016|     M|  null|     BA|2147483647|00227|      WT|  2016-04-03|       null|ATLANTA, GA      ...|  Atlanta|              GA|   Georgia|United Kingdom|United Kingdom|Pleasure|\n",
      "|459657.0| 2016|     4|   135|   135|    ATL|  20547|      1|     GA|  20548|    44|      1|    1|20160403|    null| null|      G|      I|   null|      M|   1972|07012016|     M|  null|     BA|2147483647|00227|      WB|  2016-04-03| 2016-04-04|ATLANTA, GA      ...|  Atlanta|              GA|   Georgia|United Kingdom|United Kingdom|Business|\n",
      "|459658.0| 2016|     4|   135|   135|    ATL|  20547|      1|     GA|  20548|    39|      1|    1|20160403|    null| null|      G|      I|   null|      M|   1977|07012016|     M|  null|     BA|2147483647|00227|      WB|  2016-04-03| 2016-04-04|ATLANTA, GA      ...|  Atlanta|              GA|   Georgia|United Kingdom|United Kingdom|Business|\n",
      "|459659.0| 2016|     4|   135|   135|    ATL|  20547|      1|     GA|  20573|    84|      2|    1|20160403|    null| null|      G|      I|   null|      M|   1932|07012016|     M|  null|     BA|2147483647|00227|      WT|  2016-04-03| 2016-04-29|ATLANTA, GA      ...|  Atlanta|              GA|   Georgia|United Kingdom|United Kingdom|Pleasure|\n",
      "|459660.0| 2016|     4|   135|   135|    ATL|  20547|      1|     GA|  20555|    55|      2|    1|20160403|    null| null|      G|      N|   null|      M|   1961|07012016|     M|  null|     BA|2147483647|00227|      WT|  2016-04-03| 2016-04-11|ATLANTA, GA      ...|  Atlanta|              GA|   Georgia|United Kingdom|United Kingdom|Pleasure|\n",
      "|459661.0| 2016|     4|   135|   135|    ATL|  20547|      1|     GA|  20555|    54|      2|    1|20160403|    null| null|      G|      N|   null|      M|   1962|07012016|     M|  null|     BA|2147483647|00227|      WT|  2016-04-03| 2016-04-11|ATLANTA, GA      ...|  Atlanta|              GA|   Georgia|United Kingdom|United Kingdom|Pleasure|\n",
      "|459662.0| 2016|     4|   135|   135|    ATL|  20547|      1|     GA|  20548|    36|      2|    1|20160403|    null| null|      G|      O|   null|      M|   1980|07012016|     M|  null|     DL|2147483647|00349|      WT|  2016-04-03| 2016-04-04|ATLANTA, GA      ...|  Atlanta|              GA|   Georgia|United Kingdom|United Kingdom|Pleasure|\n",
      "|459663.0| 2016|     4|   135|   135|    ATL|  20547|      1|     GA|  20549|    71|      1|    1|20160403|    null| null|      G|      O|   null|      M|   1945|07012016|     M|  null|     DL|2147483647|00031|      WB|  2016-04-03| 2016-04-05|ATLANTA, GA      ...|  Atlanta|              GA|   Georgia|United Kingdom|United Kingdom|Business|\n",
      "|459664.0| 2016|     4|   135|   135|    ATL|  20547|      1|     GA|  20549|    39|      2|    1|20160403|    null| null|      G|      O|   null|      M|   1977|07012016|     M|  null|     VS|2147483647|00109|      WT|  2016-04-03| 2016-04-05|ATLANTA, GA      ...|  Atlanta|              GA|   Georgia|United Kingdom|United Kingdom|Pleasure|\n",
      "|459665.0| 2016|     4|   135|   135|    ATL|  20547|      1|     GA|  20550|    54|      1|    1|20160403|    null| null|      G|      O|   null|      M|   1962|07012016|     M|  null|     BA|2147483647|00227|      WB|  2016-04-03| 2016-04-06|ATLANTA, GA      ...|  Atlanta|              GA|   Georgia|United Kingdom|United Kingdom|Business|\n",
      "|459666.0| 2016|     4|   135|   135|    ATL|  20547|      1|     GA|  20550|    51|      1|    1|20160403|    null| null|      G|      O|   null|      M|   1965|07012016|     M|  null|     BA|2147483647|00227|      WB|  2016-04-03| 2016-04-06|ATLANTA, GA      ...|  Atlanta|              GA|   Georgia|United Kingdom|United Kingdom|Business|\n",
      "|459667.0| 2016|     4|   135|   135|    ATL|  20547|      1|     GA|  20550|    43|      1|    1|20160403|    null| null|      G|      O|   null|      M|   1973|07012016|     M|  null|     DL|2147483647|00031|      WB|  2016-04-03| 2016-04-06|ATLANTA, GA      ...|  Atlanta|              GA|   Georgia|United Kingdom|United Kingdom|Business|\n",
      "|459668.0| 2016|     4|   135|   135|    ATL|  20547|      1|     GA|  20550|    37|      1|    1|20160403|    null| null|      G|      O|   null|      M|   1979|07012016|     F|  null|     DL|2147483647|00029|      WB|  2016-04-03| 2016-04-06|ATLANTA, GA      ...|  Atlanta|              GA|   Georgia|United Kingdom|United Kingdom|Business|\n",
      "|459669.0| 2016|     4|   135|   135|    ATL|  20547|      1|     GA|  20550|    33|      1|    1|20160403|    null| null|      G|      O|   null|      M|   1983|07012016|     F|  null|     VS|2147483647|00109|      WB|  2016-04-03| 2016-04-06|ATLANTA, GA      ...|  Atlanta|              GA|   Georgia|United Kingdom|United Kingdom|Business|\n",
      "|459670.0| 2016|     4|   135|   135|    ATL|  20547|      1|     GA|  20550|    50|      1|    1|20160403|    null| null|      G|      O|   null|      M|   1966|07012016|     M|  null|     DL|2147483647|00031|      WB|  2016-04-03| 2016-04-06|ATLANTA, GA      ...|  Atlanta|              GA|   Georgia|United Kingdom|United Kingdom|Business|\n",
      "+--------+-----+------+------+------+-------+-------+-------+-------+-------+------+-------+-----+--------+--------+-----+-------+-------+-------+-------+-------+--------+------+------+-------+----------+-----+--------+------------+-----------+--------------------+---------+----------------+----------+--------------+--------------+--------+\n",
      "only showing top 20 rows\n",
      "\n"
     ]
    }
   ],
   "source": [
    "df_test.where(F.col(\"port_state\").isNotNull()).show()"
   ]
  },
  {
   "cell_type": "markdown",
   "metadata": {},
   "source": [
    "Is arrdate ever null?"
   ]
  },
  {
   "cell_type": "code",
   "execution_count": 118,
   "metadata": {},
   "outputs": [
    {
     "name": "stdout",
     "output_type": "stream",
     "text": [
      "+-----+-----+------+------+------+-------+-------+-------+-------+-------+------+-------+-----+--------+--------+-----+-------+-------+-------+-------+-------+-------+------+------+-------+------+-----+--------+------------+-----------+----+---------+----------------+----------+---------+---------+----+\n",
      "|cicid|i94yr|i94mon|i94cit|i94res|i94port|arrdate|i94mode|i94addr|depdate|i94bir|i94visa|count|dtadfile|visapost|occup|entdepa|entdepd|entdepu|matflag|biryear|dtaddto|gender|insnum|airline|admnum|fltno|visatype|arrival_date|depart_date|port|port_city|port_state_short|port_state|state_cit|state_res|visa|\n",
      "+-----+-----+------+------+------+-------+-------+-------+-------+-------+------+-------+-----+--------+--------+-----+-------+-------+-------+-------+-------+-------+------+------+-------+------+-----+--------+------------+-----------+----+---------+----------------+----------+---------+---------+----+\n",
      "+-----+-----+------+------+------+-------+-------+-------+-------+-------+------+-------+-----+--------+--------+-----+-------+-------+-------+-------+-------+-------+------+------+-------+------+-----+--------+------------+-----------+----+---------+----------------+----------+---------+---------+----+\n",
      "\n"
     ]
    }
   ],
   "source": [
    "df_test.where(F.col(\"arrdate\").isNull()).show()"
   ]
  },
  {
   "cell_type": "markdown",
   "metadata": {},
   "source": [
    "# merge with demographic data"
   ]
  },
  {
   "cell_type": "code",
   "execution_count": 213,
   "metadata": {},
   "outputs": [],
   "source": [
    "#demographic = pd.read_csv(os.path.join(DATAFOLDER, 'us-cities-demographics.csv'), sep=';')"
   ]
  },
  {
   "cell_type": "code",
   "execution_count": 168,
   "metadata": {},
   "outputs": [],
   "source": [
    "demographics = spark.read.format('csv').options(header='true', sep=';', inferSchema=True).\\\n",
    "    load(os.path.join(DATAFOLDER, 'us-cities-demographics.csv'))"
   ]
  },
  {
   "cell_type": "markdown",
   "metadata": {},
   "source": [
    "match airport with demographic table"
   ]
  },
  {
   "cell_type": "code",
   "execution_count": null,
   "metadata": {},
   "outputs": [],
   "source": [
    "# look up unique combinations of city and state in fact table\n",
    "# "
   ]
  },
  {
   "cell_type": "code",
   "execution_count": null,
   "metadata": {},
   "outputs": [],
   "source": [
    "# subset with unique combinations of city, state and \n",
    "# port_city, port_state, i94port (as key )"
   ]
  },
  {
   "cell_type": "code",
   "execution_count": 141,
   "metadata": {},
   "outputs": [
    {
     "name": "stdout",
     "output_type": "stream",
     "text": [
      "+--------+-----+------+------+------+-------+-------+-------+-------+-------+------+-------+-----+--------+--------+-----+-------+-------+-------+-------+-------+--------+------+------+-------+----------+-----+--------+------------+-----------+---------+----------------+----------+--------------+--------------+--------+\n",
      "|   cicid|i94yr|i94mon|i94cit|i94res|i94port|arrdate|i94mode|i94addr|depdate|i94bir|i94visa|count|dtadfile|visapost|occup|entdepa|entdepd|entdepu|matflag|biryear| dtaddto|gender|insnum|airline|    admnum|fltno|visatype|arrival_date|depart_date|port_city|port_state_short|port_state|     state_cit|     state_res|    visa|\n",
      "+--------+-----+------+------+------+-------+-------+-------+-------+-------+------+-------+-----+--------+--------+-----+-------+-------+-------+-------+-------+--------+------+------+-------+----------+-----+--------+------------+-----------+---------+----------------+----------+--------------+--------------+--------+\n",
      "|459651.0| 2016|     4|   135|   135|    ATL|  20547|      1|     FL|  20559|    54|      2|    1|20160403|    null| null|      O|      R|   null|      M|   1962|07012016|  null|  null|     VS|2147483647|00115|      WT|  2016-04-03| 2016-04-15|  Atlanta|              GA|   Georgia|United Kingdom|United Kingdom|Pleasure|\n",
      "|459652.0| 2016|     4|   135|   135|    ATL|  20547|      1|     FL|  20555|    74|      2|    1|20160403|    null| null|      T|      O|   null|      M|   1942|07012016|     F|  null|     VS| 674406485|  103|      WT|  2016-04-03| 2016-04-11|  Atlanta|              GA|   Georgia|United Kingdom|United Kingdom|Pleasure|\n",
      "|459653.0| 2016|     4|   135|   135|    ATL|  20547|      1|     FL|  20557|    44|      2|    1|20160403|    null| null|      T|      Q|   null|      M|   1972|10022016|     M|  null|     VS| 674948185|  109|      B2|  2016-04-03| 2016-04-13|  Atlanta|              GA|   Georgia|United Kingdom|United Kingdom|Pleasure|\n",
      "|459654.0| 2016|     4|   135|   135|    ATL|  20547|      1|      G|  20555|    38|      2|    1|20160403|    null| null|      O|      O|   null|      M|   1978|07012016|  null|  null|     VS|2147483647|00103|      WT|  2016-04-03| 2016-04-11|  Atlanta|              GA|   Georgia|United Kingdom|United Kingdom|Pleasure|\n",
      "|459655.0| 2016|     4|   135|   135|    ATL|  20547|      1|     GA|   null|    64|      2|    1|20160403|    null| null|      G|   null|   null|   null|   1952|07012016|     F|  null|     VS|2147483647|00103|      WT|  2016-04-03|       null|  Atlanta|              GA|   Georgia|United Kingdom|United Kingdom|Pleasure|\n",
      "+--------+-----+------+------+------+-------+-------+-------+-------+-------+------+-------+-----+--------+--------+-----+-------+-------+-------+-------+-------+--------+------+------+-------+----------+-----+--------+------------+-----------+---------+----------------+----------+--------------+--------------+--------+\n",
      "only showing top 5 rows\n",
      "\n"
     ]
    }
   ],
   "source": [
    "df_test.show(5)"
   ]
  },
  {
   "cell_type": "code",
   "execution_count": 226,
   "metadata": {},
   "outputs": [],
   "source": [
    "def format_column_names(s):\n",
    "    s = s.casefold()\n",
    "    s = s.replace(' ', '_')\n",
    "    s = s.replace('-', '_')\n",
    "    return s\n",
    "\n",
    "def rename_columns(df):\n",
    "    old_names = df.schema.names\n",
    "    new_names = [format_column_names(s) for s in old_names]\n",
    "    df = reduce(lambda df, idx: \n",
    "                df.withColumnRenamed(old_names[idx], new_names[idx]), range(len(old_names)), df)\n",
    "    return df\n",
    "\n",
    "def create_demographic_table(df, demographics, outputfolder): \n",
    "    # select a subset of original table\n",
    "    df_demo = df.select(['i94port']).dropDuplicates()\n",
    "    # do the preprocessing, append columns\n",
    "    df_demo = map_col(df_demo, 'i94prtl_city', 'i94port', 'port_city')\n",
    "    #df_test = df_test.withColumn(\"port_state_short\", udf_state_short(\"port\"))\n",
    "    df_demo = map_col(df_demo, 'i94prtl_state', 'i94port', 'port_state_short')\n",
    "    df_demo = map_col(df_demo, 'i94addrl', 'port_state_short', 'port_state')\n",
    "    # we are deleting the ones, for which no states were found, since we only focus on the US here\n",
    "    # later expand world wide\n",
    "    df_demo = df_demo.dropna(subset=['port_state'])\n",
    "    df_demo = df_demo.join(demographics, (df_demo.port_city == demographics.City) & (df_demo.port_state_short == demographics['State Code']))\n",
    "    columns_to_drop = ['port_city', 'port_state', 'port_state_short']\n",
    "    df_demo = df_demo.drop(*columns_to_drop)\n",
    "    \n",
    "    # reformat column names\n",
    "    df_demo = rename_columns(df_demo)\n",
    "    df_demo.write.parquet(os.path.join(outputfolder, 'city_demographics.parquet'), 'overwrite')"
   ]
  },
  {
   "cell_type": "code",
   "execution_count": 227,
   "metadata": {},
   "outputs": [],
   "source": [
    "df_demo = create_demographic_table(df_test, demographics, OUTPUTFOLDER)"
   ]
  },
  {
   "cell_type": "code",
   "execution_count": null,
   "metadata": {},
   "outputs": [],
   "source": []
  },
  {
   "cell_type": "code",
   "execution_count": 217,
   "metadata": {},
   "outputs": [],
   "source": [
    "old_names = df_demo.schema.names\n",
    "new_names = [format_column_names(s) for s in old_names]"
   ]
  },
  {
   "cell_type": "code",
   "execution_count": 218,
   "metadata": {},
   "outputs": [],
   "source": [
    "df = reduce(lambda df_demo, idx: df_demo.withColumnRenamed(old_names[idx], new_names[idx]), range(len(old_names)), df_demo) "
   ]
  },
  {
   "cell_type": "code",
   "execution_count": 225,
   "metadata": {},
   "outputs": [
    {
     "name": "stdout",
     "output_type": "stream",
     "text": [
      "+-------+-----------+----------+----------+---------------+-----------------+----------------+------------------+------------+----------------------+----------+--------------------+-------+\n",
      "|i94port|       city|     state|median_age|male_population|female_population|total_population|number_of_veterans|foreign_born|average_household_size|state_code|                race|  count|\n",
      "+-------+-----------+----------+----------+---------------+-----------------+----------------+------------------+------------+----------------------+----------+--------------------+-------+\n",
      "|    FMY| Fort Myers|   Florida|      37.3|          36850|            37165|           74015|              4312|       15365|                  2.45|        FL|  Hispanic or Latino|  17866|\n",
      "|    FMY| Fort Myers|   Florida|      37.3|          36850|            37165|           74015|              4312|       15365|                  2.45|        FL|Black or African-...|  17298|\n",
      "|    FMY| Fort Myers|   Florida|      37.3|          36850|            37165|           74015|              4312|       15365|                  2.45|        FL|               White|  50169|\n",
      "|    FMY| Fort Myers|   Florida|      37.3|          36850|            37165|           74015|              4312|       15365|                  2.45|        FL|               Asian|   3519|\n",
      "|    SNA|San Antonio|     Texas|      33.1|         721405|           748419|         1469824|            109089|      208046|                  2.93|        TX|Black or African-...| 119542|\n",
      "|    SNA|San Antonio|     Texas|      33.1|         721405|           748419|         1469824|            109089|      208046|                  2.93|        TX|               White|1240092|\n",
      "|    SNA|San Antonio|     Texas|      33.1|         721405|           748419|         1469824|            109089|      208046|                  2.93|        TX|  Hispanic or Latino| 937607|\n",
      "|    SNA|San Antonio|     Texas|      33.1|         721405|           748419|         1469824|            109089|      208046|                  2.93|        TX|American Indian a...|  20752|\n",
      "|    SNA|San Antonio|     Texas|      33.1|         721405|           748419|         1469824|            109089|      208046|                  2.93|        TX|               Asian|  53933|\n",
      "|    OAK|    Oakland|California|      35.7|         203827|           215451|          419278|             12159|      113896|                  2.56|        CA|               Asian|  75446|\n",
      "|    OAK|    Oakland|California|      35.7|         203827|           215451|          419278|             12159|      113896|                  2.56|        CA|American Indian a...|   8380|\n",
      "|    OAK|    Oakland|California|      35.7|         203827|           215451|          419278|             12159|      113896|                  2.56|        CA|  Hispanic or Latino| 114054|\n",
      "|    OAK|    Oakland|California|      35.7|         203827|           215451|          419278|             12159|      113896|                  2.56|        CA|Black or African-...| 118228|\n",
      "|    OAK|    Oakland|California|      35.7|         203827|           215451|          419278|             12159|      113896|                  2.56|        CA|               White| 171599|\n",
      "|    DET|    Detroit|  Michigan|      34.8|         319265|           357859|          677124|             29511|       39861|                   2.6|        MI|Black or African-...| 545988|\n",
      "|    DET|    Detroit|  Michigan|      34.8|         319265|           357859|          677124|             29511|       39861|                   2.6|        MI|               White| 104260|\n",
      "|    DET|    Detroit|  Michigan|      34.8|         319265|           357859|          677124|             29511|       39861|                   2.6|        MI|American Indian a...|   6007|\n",
      "|    DET|    Detroit|  Michigan|      34.8|         319265|           357859|          677124|             29511|       39861|                   2.6|        MI|               Asian|  10804|\n",
      "|    DET|    Detroit|  Michigan|      34.8|         319265|           357859|          677124|             29511|       39861|                   2.6|        MI|  Hispanic or Latino|  53980|\n",
      "|    NSV|  Nashville| Tennessee|      34.1|         314231|           340365|          654596|             27942|       88193|                  2.39|        TN|American Indian a...|   5474|\n",
      "+-------+-----------+----------+----------+---------------+-----------------+----------------+------------------+------------+----------------------+----------+--------------------+-------+\n",
      "only showing top 20 rows\n",
      "\n"
     ]
    }
   ],
   "source": [
    "df_demo.show()"
   ]
  },
  {
   "cell_type": "code",
   "execution_count": 207,
   "metadata": {},
   "outputs": [
    {
     "data": {
      "text/plain": [
       "['i94port',\n",
       " 'port_state_short',\n",
       " 'city',\n",
       " 'state',\n",
       " 'median_age',\n",
       " 'male_population',\n",
       " 'female_population',\n",
       " 'total_population',\n",
       " 'number_of_veterans',\n",
       " 'foreign-born',\n",
       " 'average_household_size',\n",
       " 'state_code',\n",
       " 'race',\n",
       " 'count']"
      ]
     },
     "execution_count": 207,
     "metadata": {},
     "output_type": "execute_result"
    }
   ],
   "source": [
    "\n",
    "new_names"
   ]
  },
  {
   "cell_type": "code",
   "execution_count": 179,
   "metadata": {},
   "outputs": [],
   "source": [
    "df_demo = df_demo.drop(*columns_to_drop)\n"
   ]
  },
  {
   "cell_type": "code",
   "execution_count": 186,
   "metadata": {},
   "outputs": [
    {
     "name": "stdout",
     "output_type": "stream",
     "text": [
      "+-------+----------------+----------+-------+----------+---------------+-----------------+----------------+------------------+------------+----------------------+----------+--------------------+-----+\n",
      "|i94port|port_state_short|      City|  State|Median Age|Male Population|Female Population|Total Population|Number of Veterans|Foreign-born|Average Household Size|State Code|                Race|Count|\n",
      "+-------+----------------+----------+-------+----------+---------------+-----------------+----------------+------------------+------------+----------------------+----------+--------------------+-----+\n",
      "|    FMY|              FL|Fort Myers|Florida|      37.3|          36850|            37165|           74015|              4312|       15365|                  2.45|        FL|  Hispanic or Latino|17866|\n",
      "|    FMY|              FL|Fort Myers|Florida|      37.3|          36850|            37165|           74015|              4312|       15365|                  2.45|        FL|Black or African-...|17298|\n",
      "|    FMY|              FL|Fort Myers|Florida|      37.3|          36850|            37165|           74015|              4312|       15365|                  2.45|        FL|               White|50169|\n",
      "+-------+----------------+----------+-------+----------+---------------+-----------------+----------------+------------------+------------+----------------------+----------+--------------------+-----+\n",
      "only showing top 3 rows\n",
      "\n"
     ]
    }
   ],
   "source": [
    "df_demo.show(3)"
   ]
  },
  {
   "cell_type": "code",
   "execution_count": 189,
   "metadata": {},
   "outputs": [],
   "source": [
    "s = 'Male Population'"
   ]
  },
  {
   "cell_type": "code",
   "execution_count": 205,
   "metadata": {},
   "outputs": [],
   "source": []
  },
  {
   "cell_type": "code",
   "execution_count": 204,
   "metadata": {},
   "outputs": [
    {
     "data": {
      "text/plain": [
       "'male_population'"
      ]
     },
     "execution_count": 204,
     "metadata": {},
     "output_type": "execute_result"
    }
   ],
   "source": []
  },
  {
   "cell_type": "markdown",
   "metadata": {},
   "source": [
    "# create single tables for everything"
   ]
  },
  {
   "cell_type": "markdown",
   "metadata": {},
   "source": [
    "## country table"
   ]
  },
  {
   "cell_type": "code",
   "execution_count": null,
   "metadata": {},
   "outputs": [],
   "source": []
  }
 ],
 "metadata": {
  "kernelspec": {
   "display_name": "Python 3",
   "language": "python",
   "name": "python3"
  },
  "language_info": {
   "codemirror_mode": {
    "name": "ipython",
    "version": 3
   },
   "file_extension": ".py",
   "mimetype": "text/x-python",
   "name": "python",
   "nbconvert_exporter": "python",
   "pygments_lexer": "ipython3",
   "version": "3.7.2"
  }
 },
 "nbformat": 4,
 "nbformat_minor": 2
}
