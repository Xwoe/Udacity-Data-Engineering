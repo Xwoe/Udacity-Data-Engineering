{
 "cells": [
  {
   "cell_type": "code",
   "execution_count": 240,
   "metadata": {},
   "outputs": [],
   "source": [
    "import os\n",
    "import pandas as pd\n",
    "import numpy as np\n",
    "from pyspark.sql import SparkSession\n",
    "from pyspark.sql import SparkSession\n",
    "import pyspark.sql.functions as F\n",
    "import pyspark.sql.types as T\n",
    "from itertools import chain\n",
    "from pyspark.sql.functions import udf"
   ]
  },
  {
   "cell_type": "code",
   "execution_count": 40,
   "metadata": {},
   "outputs": [],
   "source": [
    "DATAFOLDER = '/Users/christian/Data/udacity_capstone/'"
   ]
  },
  {
   "cell_type": "code",
   "execution_count": 130,
   "metadata": {},
   "outputs": [],
   "source": [
    "def get_immi_schema():\n",
    "    \"\"\"\n",
    "    Map the column names to datatypes and return as a schema.\n",
    "    \"\"\"\n",
    "    immi_schema = T.StructType([\n",
    "        T.StructField('cicid', T.IntegerType()),\n",
    "        T.StructField('i94yr', T.StringType()),\n",
    "        T.StructField('i94mon', T.StringType()),\n",
    "        T.StructField('i94cit', T.StringType()),\n",
    "        T.StructField('i94res', T.IntegerType()),\n",
    "        T.StructField('i94port', T.StringType()),\n",
    "        T.StructField('arrdate', T.StringType()),\n",
    "        T.StructField('i94mode', T.StringType()),\n",
    "        T.StructField('i94addr', T.StringType()),\n",
    "        T.StructField('depdate', T.StringType()),\n",
    "        T.StructField('i94bir', T.StringType()),\n",
    "        T.StructField('i94visa', T.StringType()),\n",
    "        T.StructField('count',  T.IntegerType()),\n",
    "        T.StructField('dtadfile', T.StringType()),\n",
    "        T.StructField('visapost', T.IntegerType()),\n",
    "        T.StructField('occup', T.StringType()),\n",
    "        T.StructField('entdepa', T.StringType()),\n",
    "        T.StructField('entdepd', T.IntegerType()),\n",
    "        T.StructField('entdepu', T.StringType()),\n",
    "        T.StructField('matflag', T.StringType()),\n",
    "        T.StructField('biryear', T.StringType()),\n",
    "        T.StructField('dtaddto', T.StringType()),\n",
    "        T.StructField('gender', T.StringType()),\n",
    "        T.StructField('insnum', T.StringType()),\n",
    "        T.StructField('airline', T.StringType()),\n",
    "        T.StructField('admnum', T.StringType()),\n",
    "        T.StructField('fltno', T.StringType()),\n",
    "        T.StructField('visatype', T.StringType()),\n",
    "    ])\n",
    "    return immi_schema\n"
   ]
  },
  {
   "cell_type": "code",
   "execution_count": 131,
   "metadata": {},
   "outputs": [],
   "source": [
    "schema = get_immi_schema()\n"
   ]
  },
  {
   "cell_type": "code",
   "execution_count": 138,
   "metadata": {},
   "outputs": [],
   "source": [
    "\n",
    "spark = SparkSession.builder.\\\n",
    "config(\"spark.jars.packages\",\"saurfang:spark-sas7bdat:2.0.0-s_2.11\")\\\n",
    ".enableHiveSupport().getOrCreate()\n",
    "#df_spark = spark.read.format('com.github.saurfang.sas.spark').load('../../data/18-83510-I94-Data-2016/i94_apr16_sub.sas7bdat')\n",
    "df_spark = spark.read.option(\"mergeSchema\", \"true\").parquet(os.path.join(DATAFOLDER, 'sas_data'))"
   ]
  },
  {
   "cell_type": "markdown",
   "metadata": {},
   "source": [
    "# convert data types"
   ]
  },
  {
   "cell_type": "code",
   "execution_count": 149,
   "metadata": {},
   "outputs": [],
   "source": [
    "df_spark = df_spark.withColumn('i94yr', df_spark['i94yr'].cast(T.IntegerType())).\\\n",
    "        withColumn('i94mon', df_spark['i94mon'].cast(T.IntegerType())).\\\n",
    "        withColumn('i94cit', df_spark['i94cit'].cast(T.IntegerType())).\\\n",
    "        withColumn('i94res', df_spark['i94res'].cast(T.IntegerType())).\\\n",
    "        withColumn('arrdate', df_spark['arrdate'].cast(T.IntegerType())).\\\n",
    "        withColumn('i94mode', df_spark['i94mode'].cast(T.IntegerType())).\\\n",
    "        withColumn('depdate', df_spark['depdate'].cast(T.IntegerType())).\\\n",
    "        withColumn('i94bir', df_spark['i94bir'].cast(T.IntegerType())).\\\n",
    "        withColumn('i94visa', df_spark['i94visa'].cast(T.IntegerType())).\\\n",
    "        withColumn('count', df_spark['count'].cast(T.IntegerType())).\\\n",
    "        withColumn('biryear', df_spark['biryear'].cast(T.IntegerType())).\\\n",
    "        withColumn('admnum', df_spark['admnum'].cast(T.IntegerType()))"
   ]
  },
  {
   "cell_type": "code",
   "execution_count": 112,
   "metadata": {},
   "outputs": [],
   "source": [
    "df_sample = pd.read_csv(os.path.join(DATAFOLDER, 'immigration_data_sample.csv'))"
   ]
  },
  {
   "cell_type": "code",
   "execution_count": 150,
   "metadata": {},
   "outputs": [
    {
     "data": {
      "text/plain": [
       "Row(cicid=459651.0, i94yr=2016, i94mon=4, i94cit=135, i94res=135, i94port='ATL', arrdate=20547, i94mode=1, i94addr='FL', depdate=20559, i94bir=54, i94visa=2, count=1, dtadfile='20160403', visapost=None, occup=None, entdepa='O', entdepd='R', entdepu=None, matflag='M', biryear=1962, dtaddto='07012016', gender=None, insnum=None, airline='VS', admnum=2147483647, fltno='00115', visatype='WT')"
      ]
     },
     "execution_count": 150,
     "metadata": {},
     "output_type": "execute_result"
    }
   ],
   "source": [
    "df_spark.head()"
   ]
  },
  {
   "cell_type": "code",
   "execution_count": 151,
   "metadata": {},
   "outputs": [],
   "source": [
    "df_time = df_spark.withColumn(\"arrival_date\", F.expr(\"date_add(to_date('1960-01-01'), arrdate)\"))"
   ]
  },
  {
   "cell_type": "code",
   "execution_count": 152,
   "metadata": {},
   "outputs": [
    {
     "data": {
      "text/plain": [
       "Row(cicid=459651.0, i94yr=2016, i94mon=4, i94cit=135, i94res=135, i94port='ATL', arrdate=20547, i94mode=1, i94addr='FL', depdate=20559, i94bir=54, i94visa=2, count=1, dtadfile='20160403', visapost=None, occup=None, entdepa='O', entdepd='R', entdepu=None, matflag='M', biryear=1962, dtaddto='07012016', gender=None, insnum=None, airline='VS', admnum=2147483647, fltno='00115', visatype='WT', arrival_date=datetime.date(2016, 4, 3))"
      ]
     },
     "execution_count": 152,
     "metadata": {},
     "output_type": "execute_result"
    }
   ],
   "source": [
    "df_time.head()"
   ]
  },
  {
   "cell_type": "code",
   "execution_count": 153,
   "metadata": {},
   "outputs": [
    {
     "name": "stdout",
     "output_type": "stream",
     "text": [
      "+--------+-----+------+------+------+-------+-------+-------+-------+-------+------+-------+-----+--------+--------+-----+-------+-------+-------+-------+-------+--------+------+------+-------+----------+-----+--------+------------+\n",
      "|   cicid|i94yr|i94mon|i94cit|i94res|i94port|arrdate|i94mode|i94addr|depdate|i94bir|i94visa|count|dtadfile|visapost|occup|entdepa|entdepd|entdepu|matflag|biryear| dtaddto|gender|insnum|airline|    admnum|fltno|visatype|arrival_date|\n",
      "+--------+-----+------+------+------+-------+-------+-------+-------+-------+------+-------+-----+--------+--------+-----+-------+-------+-------+-------+-------+--------+------+------+-------+----------+-----+--------+------------+\n",
      "|459651.0| 2016|     4|   135|   135|    ATL|  20547|      1|     FL|  20559|    54|      2|    1|20160403|    null| null|      O|      R|   null|      M|   1962|07012016|  null|  null|     VS|2147483647|00115|      WT|  2016-04-03|\n",
      "|459652.0| 2016|     4|   135|   135|    ATL|  20547|      1|     FL|  20555|    74|      2|    1|20160403|    null| null|      T|      O|   null|      M|   1942|07012016|     F|  null|     VS| 674406485|  103|      WT|  2016-04-03|\n",
      "|459653.0| 2016|     4|   135|   135|    ATL|  20547|      1|     FL|  20557|    44|      2|    1|20160403|    null| null|      T|      Q|   null|      M|   1972|10022016|     M|  null|     VS| 674948185|  109|      B2|  2016-04-03|\n",
      "|459654.0| 2016|     4|   135|   135|    ATL|  20547|      1|      G|  20555|    38|      2|    1|20160403|    null| null|      O|      O|   null|      M|   1978|07012016|  null|  null|     VS|2147483647|00103|      WT|  2016-04-03|\n",
      "|459655.0| 2016|     4|   135|   135|    ATL|  20547|      1|     GA|   null|    64|      2|    1|20160403|    null| null|      G|   null|   null|   null|   1952|07012016|     F|  null|     VS|2147483647|00103|      WT|  2016-04-03|\n",
      "|459656.0| 2016|     4|   135|   135|    ATL|  20547|      1|     GA|   null|    63|      2|    1|20160403|    null| null|      G|   null|   null|   null|   1953|07012016|     M|  null|     BA|2147483647|00227|      WT|  2016-04-03|\n",
      "|459657.0| 2016|     4|   135|   135|    ATL|  20547|      1|     GA|  20548|    44|      1|    1|20160403|    null| null|      G|      I|   null|      M|   1972|07012016|     M|  null|     BA|2147483647|00227|      WB|  2016-04-03|\n",
      "|459658.0| 2016|     4|   135|   135|    ATL|  20547|      1|     GA|  20548|    39|      1|    1|20160403|    null| null|      G|      I|   null|      M|   1977|07012016|     M|  null|     BA|2147483647|00227|      WB|  2016-04-03|\n",
      "|459659.0| 2016|     4|   135|   135|    ATL|  20547|      1|     GA|  20573|    84|      2|    1|20160403|    null| null|      G|      I|   null|      M|   1932|07012016|     M|  null|     BA|2147483647|00227|      WT|  2016-04-03|\n",
      "|459660.0| 2016|     4|   135|   135|    ATL|  20547|      1|     GA|  20555|    55|      2|    1|20160403|    null| null|      G|      N|   null|      M|   1961|07012016|     M|  null|     BA|2147483647|00227|      WT|  2016-04-03|\n",
      "|459661.0| 2016|     4|   135|   135|    ATL|  20547|      1|     GA|  20555|    54|      2|    1|20160403|    null| null|      G|      N|   null|      M|   1962|07012016|     M|  null|     BA|2147483647|00227|      WT|  2016-04-03|\n",
      "|459662.0| 2016|     4|   135|   135|    ATL|  20547|      1|     GA|  20548|    36|      2|    1|20160403|    null| null|      G|      O|   null|      M|   1980|07012016|     M|  null|     DL|2147483647|00349|      WT|  2016-04-03|\n",
      "|459663.0| 2016|     4|   135|   135|    ATL|  20547|      1|     GA|  20549|    71|      1|    1|20160403|    null| null|      G|      O|   null|      M|   1945|07012016|     M|  null|     DL|2147483647|00031|      WB|  2016-04-03|\n",
      "|459664.0| 2016|     4|   135|   135|    ATL|  20547|      1|     GA|  20549|    39|      2|    1|20160403|    null| null|      G|      O|   null|      M|   1977|07012016|     M|  null|     VS|2147483647|00109|      WT|  2016-04-03|\n",
      "|459665.0| 2016|     4|   135|   135|    ATL|  20547|      1|     GA|  20550|    54|      1|    1|20160403|    null| null|      G|      O|   null|      M|   1962|07012016|     M|  null|     BA|2147483647|00227|      WB|  2016-04-03|\n",
      "|459666.0| 2016|     4|   135|   135|    ATL|  20547|      1|     GA|  20550|    51|      1|    1|20160403|    null| null|      G|      O|   null|      M|   1965|07012016|     M|  null|     BA|2147483647|00227|      WB|  2016-04-03|\n",
      "|459667.0| 2016|     4|   135|   135|    ATL|  20547|      1|     GA|  20550|    43|      1|    1|20160403|    null| null|      G|      O|   null|      M|   1973|07012016|     M|  null|     DL|2147483647|00031|      WB|  2016-04-03|\n",
      "|459668.0| 2016|     4|   135|   135|    ATL|  20547|      1|     GA|  20550|    37|      1|    1|20160403|    null| null|      G|      O|   null|      M|   1979|07012016|     F|  null|     DL|2147483647|00029|      WB|  2016-04-03|\n",
      "|459669.0| 2016|     4|   135|   135|    ATL|  20547|      1|     GA|  20550|    33|      1|    1|20160403|    null| null|      G|      O|   null|      M|   1983|07012016|     F|  null|     VS|2147483647|00109|      WB|  2016-04-03|\n",
      "|459670.0| 2016|     4|   135|   135|    ATL|  20547|      1|     GA|  20550|    50|      1|    1|20160403|    null| null|      G|      O|   null|      M|   1966|07012016|     M|  null|     DL|2147483647|00031|      WB|  2016-04-03|\n",
      "+--------+-----+------+------+------+-------+-------+-------+-------+-------+------+-------+-----+--------+--------+-----+-------+-------+-------+-------+-------+--------+------+------+-------+----------+-----+--------+------------+\n",
      "only showing top 20 rows\n",
      "\n"
     ]
    }
   ],
   "source": [
    "df_time.show()"
   ]
  },
  {
   "cell_type": "markdown",
   "metadata": {},
   "source": [
    "## map i94addrl - state"
   ]
  },
  {
   "cell_type": "code",
   "execution_count": 225,
   "metadata": {},
   "outputs": [],
   "source": [
    "\n",
    "def map_col(df, map_col_name, df_col_name, new_col_name):\n",
    "    \"\"\"\n",
    "    \n",
    "    Parameters\n",
    "    ----------\n",
    "    df : spark dataframe\n",
    "        The file containing the df_col_name to be used for mapping.\n",
    "    map_col_name : str\n",
    "        The column name of the mapping file.\n",
    "    df_col_name : str\n",
    "        The column name in the Spark dataframe to be used.\n",
    "    new_col_name : str\n",
    "        New column name of the mapping results.\n",
    "    \n",
    "    \n",
    "    \"\"\"\n",
    "    df_map = pd.read_csv(os.path.join(DATAFOLDER, f'{map_col_name}.csv'), quotechar=\"'\")\n",
    "    dic_map = dict(zip(df_map['value'], df_map[map_col_name]))\n",
    "    mapping_expr = F.create_map([F.lit(x) for x in chain(*dic_map.items())])\n",
    "    return df.withColumn(new_col_name, mapping_expr[F.col(df_col_name)])\n",
    "    "
   ]
  },
  {
   "cell_type": "code",
   "execution_count": 160,
   "metadata": {},
   "outputs": [],
   "source": [
    "addrl = pd.read_csv(os.path.join(DATAFOLDER, 'i94addrl.csv'))"
   ]
  },
  {
   "cell_type": "code",
   "execution_count": 81,
   "metadata": {},
   "outputs": [],
   "source": [
    "colname = addrl.columns[1]\n",
    "addrl_dic = dict(zip(addrl['value'], addrl[colname]))"
   ]
  },
  {
   "cell_type": "code",
   "execution_count": 90,
   "metadata": {},
   "outputs": [],
   "source": [
    "mapping_expr = F.create_map([F.lit(x) for x in chain(*addrl_dic.items())])"
   ]
  },
  {
   "cell_type": "code",
   "execution_count": 100,
   "metadata": {},
   "outputs": [
    {
     "name": "stdout",
     "output_type": "stream",
     "text": [
      "+--------+------+------+------+------+-------+-------+-------+-------+-------+------+-------+-----+--------+--------+-----+-------+-------+-------+-------+-------+--------+------+------+-------+---------------+-----+--------+------------+-------+\n",
      "|   cicid| i94yr|i94mon|i94cit|i94res|i94port|arrdate|i94mode|i94addr|depdate|i94bir|i94visa|count|dtadfile|visapost|occup|entdepa|entdepd|entdepu|matflag|biryear| dtaddto|gender|insnum|airline|         admnum|fltno|visatype|arrival_date|  state|\n",
      "+--------+------+------+------+------+-------+-------+-------+-------+-------+------+-------+-----+--------+--------+-----+-------+-------+-------+-------+-------+--------+------+------+-------+---------------+-----+--------+------------+-------+\n",
      "|459651.0|2016.0|   4.0| 135.0| 135.0|    ATL|20547.0|    1.0|     FL|20559.0|  54.0|    2.0|  1.0|20160403|    null| null|      O|      R|   null|      M| 1962.0|07012016|  null|  null|     VS|5.5556253633E10|00115|      WT|  2016-04-03|FLORIDA|\n",
      "|459652.0|2016.0|   4.0| 135.0| 135.0|    ATL|20547.0|    1.0|     FL|20555.0|  74.0|    2.0|  1.0|20160403|    null| null|      T|      O|   null|      M| 1942.0|07012016|     F|  null|     VS|   6.74406485E8|  103|      WT|  2016-04-03|FLORIDA|\n",
      "|459653.0|2016.0|   4.0| 135.0| 135.0|    ATL|20547.0|    1.0|     FL|20557.0|  44.0|    2.0|  1.0|20160403|    null| null|      T|      Q|   null|      M| 1972.0|10022016|     M|  null|     VS|   6.74948185E8|  109|      B2|  2016-04-03|FLORIDA|\n",
      "|459654.0|2016.0|   4.0| 135.0| 135.0|    ATL|20547.0|    1.0|      G|20555.0|  38.0|    2.0|  1.0|20160403|    null| null|      O|      O|   null|      M| 1978.0|07012016|  null|  null|     VS|5.5541762033E10|00103|      WT|  2016-04-03|   null|\n",
      "|459655.0|2016.0|   4.0| 135.0| 135.0|    ATL|20547.0|    1.0|     GA|   null|  64.0|    2.0|  1.0|20160403|    null| null|      G|   null|   null|   null| 1952.0|07012016|     F|  null|     VS|5.5541328433E10|00103|      WT|  2016-04-03|GEORGIA|\n",
      "|459656.0|2016.0|   4.0| 135.0| 135.0|    ATL|20547.0|    1.0|     GA|   null|  63.0|    2.0|  1.0|20160403|    null| null|      G|   null|   null|   null| 1953.0|07012016|     M|  null|     BA|5.5578035433E10|00227|      WT|  2016-04-03|GEORGIA|\n",
      "|459657.0|2016.0|   4.0| 135.0| 135.0|    ATL|20547.0|    1.0|     GA|20548.0|  44.0|    1.0|  1.0|20160403|    null| null|      G|      I|   null|      M| 1972.0|07012016|     M|  null|     BA|5.5578919033E10|00227|      WB|  2016-04-03|GEORGIA|\n",
      "|459658.0|2016.0|   4.0| 135.0| 135.0|    ATL|20547.0|    1.0|     GA|20548.0|  39.0|    1.0|  1.0|20160403|    null| null|      G|      I|   null|      M| 1977.0|07012016|     M|  null|     BA|5.5578743033E10|00227|      WB|  2016-04-03|GEORGIA|\n",
      "|459659.0|2016.0|   4.0| 135.0| 135.0|    ATL|20547.0|    1.0|     GA|20573.0|  84.0|    2.0|  1.0|20160403|    null| null|      G|      I|   null|      M| 1932.0|07012016|     M|  null|     BA|5.5577459833E10|00227|      WT|  2016-04-03|GEORGIA|\n",
      "|459660.0|2016.0|   4.0| 135.0| 135.0|    ATL|20547.0|    1.0|     GA|20555.0|  55.0|    2.0|  1.0|20160403|    null| null|      G|      N|   null|      M| 1961.0|07012016|     M|  null|     BA|5.5577874033E10|00227|      WT|  2016-04-03|GEORGIA|\n",
      "|459661.0|2016.0|   4.0| 135.0| 135.0|    ATL|20547.0|    1.0|     GA|20555.0|  54.0|    2.0|  1.0|20160403|    null| null|      G|      N|   null|      M| 1962.0|07012016|     M|  null|     BA|5.5577725633E10|00227|      WT|  2016-04-03|GEORGIA|\n",
      "|459662.0|2016.0|   4.0| 135.0| 135.0|    ATL|20547.0|    1.0|     GA|20548.0|  36.0|    2.0|  1.0|20160403|    null| null|      G|      O|   null|      M| 1980.0|07012016|     M|  null|     DL|5.5577644033E10|00349|      WT|  2016-04-03|GEORGIA|\n",
      "|459663.0|2016.0|   4.0| 135.0| 135.0|    ATL|20547.0|    1.0|     GA|20549.0|  71.0|    1.0|  1.0|20160403|    null| null|      G|      O|   null|      M| 1945.0|07012016|     M|  null|     DL|5.5574698833E10|00031|      WB|  2016-04-03|GEORGIA|\n",
      "|459664.0|2016.0|   4.0| 135.0| 135.0|    ATL|20547.0|    1.0|     GA|20549.0|  39.0|    2.0|  1.0|20160403|    null| null|      G|      O|   null|      M| 1977.0|07012016|     M|  null|     VS|5.5560145833E10|00109|      WT|  2016-04-03|GEORGIA|\n",
      "|459665.0|2016.0|   4.0| 135.0| 135.0|    ATL|20547.0|    1.0|     GA|20550.0|  54.0|    1.0|  1.0|20160403|    null| null|      G|      O|   null|      M| 1962.0|07012016|     M|  null|     BA|5.5577579933E10|00227|      WB|  2016-04-03|GEORGIA|\n",
      "|459666.0|2016.0|   4.0| 135.0| 135.0|    ATL|20547.0|    1.0|     GA|20550.0|  51.0|    1.0|  1.0|20160403|    null| null|      G|      O|   null|      M| 1965.0|07012016|     M|  null|     BA|5.5578365433E10|00227|      WB|  2016-04-03|GEORGIA|\n",
      "|459667.0|2016.0|   4.0| 135.0| 135.0|    ATL|20547.0|    1.0|     GA|20550.0|  43.0|    1.0|  1.0|20160403|    null| null|      G|      O|   null|      M| 1973.0|07012016|     M|  null|     DL|5.5574951833E10|00031|      WB|  2016-04-03|GEORGIA|\n",
      "|459668.0|2016.0|   4.0| 135.0| 135.0|    ATL|20547.0|    1.0|     GA|20550.0|  37.0|    1.0|  1.0|20160403|    null| null|      G|      O|   null|      M| 1979.0|07012016|     F|  null|     DL|5.5564568733E10|00029|      WB|  2016-04-03|GEORGIA|\n",
      "|459669.0|2016.0|   4.0| 135.0| 135.0|    ATL|20547.0|    1.0|     GA|20550.0|  33.0|    1.0|  1.0|20160403|    null| null|      G|      O|   null|      M| 1983.0|07012016|     F|  null|     VS|5.5557739533E10|00109|      WB|  2016-04-03|GEORGIA|\n",
      "|459670.0|2016.0|   4.0| 135.0| 135.0|    ATL|20547.0|    1.0|     GA|20550.0|  50.0|    1.0|  1.0|20160403|    null| null|      G|      O|   null|      M| 1966.0|07012016|     M|  null|     DL|5.5574648333E10|00031|      WB|  2016-04-03|GEORGIA|\n",
      "+--------+------+------+------+------+-------+-------+-------+-------+-------+------+-------+-----+--------+--------+-----+-------+-------+-------+-------+-------+--------+------+------+-------+---------------+-----+--------+------------+-------+\n",
      "only showing top 20 rows\n",
      "\n"
     ]
    }
   ],
   "source": [
    "df_time.withColumn('state', mapping_expr[F.col('i94addr')]).show()"
   ]
  },
  {
   "cell_type": "code",
   "execution_count": 103,
   "metadata": {},
   "outputs": [
    {
     "name": "stdout",
     "output_type": "stream",
     "text": [
      "I94_SAS_Labels_Descriptions.SAS\n",
      "airport-codes_csv.csv\n",
      "\u001b[34mclimate-change-earth-surface-temperature-data\u001b[m\u001b[m\n",
      "climate-change-earth-surface-temperature-data.zip\n",
      "i94addrl.csv\n",
      "i94cntyl.csv\n",
      "i94cntyl.sas\n",
      "i94model.csv\n",
      "i94prtl.csv\n",
      "i94visa.csv\n",
      "immigration_data_sample.csv\n",
      "\u001b[34msas_data\u001b[m\u001b[m\n",
      "us-cities-demographics.csv\n"
     ]
    }
   ],
   "source": [
    "!ls /Users/christian/Data/udacity_capstone/"
   ]
  },
  {
   "cell_type": "code",
   "execution_count": 169,
   "metadata": {},
   "outputs": [],
   "source": []
  },
  {
   "cell_type": "code",
   "execution_count": 215,
   "metadata": {},
   "outputs": [],
   "source": [
    "df_test = df_time\n",
    "map_col_name = 'i94cntyl'\n",
    "df_col_name = 'i94cit'\n",
    "new_col_name = 'country_cit'\n",
    "df_map = pd.read_csv(os.path.join(DATAFOLDER, f'{map_col_name}.csv'), quotechar=\"'\")\n",
    "dic_map = dict(zip(df_map['value'], df_map[map_col_name]))\n",
    "mapping_expr = F.create_map([F.lit(x) for x in chain(*dic_map.items())])\n",
    "df_test_2 = df_test.withColumn(new_col_name, mapping_expr[F.col(df_col_name)])"
   ]
  },
  {
   "cell_type": "code",
   "execution_count": 222,
   "metadata": {},
   "outputs": [
    {
     "data": {
      "text/html": [
       "<div>\n",
       "<style scoped>\n",
       "    .dataframe tbody tr th:only-of-type {\n",
       "        vertical-align: middle;\n",
       "    }\n",
       "\n",
       "    .dataframe tbody tr th {\n",
       "        vertical-align: top;\n",
       "    }\n",
       "\n",
       "    .dataframe thead th {\n",
       "        text-align: right;\n",
       "    }\n",
       "</style>\n",
       "<table border=\"1\" class=\"dataframe\">\n",
       "  <thead>\n",
       "    <tr style=\"text-align: right;\">\n",
       "      <th></th>\n",
       "      <th>value</th>\n",
       "      <th>i94cntyl</th>\n",
       "    </tr>\n",
       "  </thead>\n",
       "  <tbody>\n",
       "    <tr>\n",
       "      <th>0</th>\n",
       "      <td>582</td>\n",
       "      <td>MEXICO Air Sea, and Not Reported (I-94, no lan...</td>\n",
       "    </tr>\n",
       "    <tr>\n",
       "      <th>1</th>\n",
       "      <td>236</td>\n",
       "      <td>AFGHANISTAN</td>\n",
       "    </tr>\n",
       "    <tr>\n",
       "      <th>2</th>\n",
       "      <td>101</td>\n",
       "      <td>ALBANIA</td>\n",
       "    </tr>\n",
       "    <tr>\n",
       "      <th>3</th>\n",
       "      <td>316</td>\n",
       "      <td>ALGERIA</td>\n",
       "    </tr>\n",
       "    <tr>\n",
       "      <th>4</th>\n",
       "      <td>102</td>\n",
       "      <td>ANDORRA</td>\n",
       "    </tr>\n",
       "    <tr>\n",
       "      <th>...</th>\n",
       "      <td>...</td>\n",
       "      <td>...</td>\n",
       "    </tr>\n",
       "    <tr>\n",
       "      <th>284</th>\n",
       "      <td>791</td>\n",
       "      <td>No Country Code (791)</td>\n",
       "    </tr>\n",
       "    <tr>\n",
       "      <th>285</th>\n",
       "      <td>849</td>\n",
       "      <td>No Country Code (849)</td>\n",
       "    </tr>\n",
       "    <tr>\n",
       "      <th>286</th>\n",
       "      <td>914</td>\n",
       "      <td>No Country Code (914)</td>\n",
       "    </tr>\n",
       "    <tr>\n",
       "      <th>287</th>\n",
       "      <td>944</td>\n",
       "      <td>No Country Code (944)</td>\n",
       "    </tr>\n",
       "    <tr>\n",
       "      <th>288</th>\n",
       "      <td>996</td>\n",
       "      <td>No Country Code (996)</td>\n",
       "    </tr>\n",
       "  </tbody>\n",
       "</table>\n",
       "<p>289 rows × 2 columns</p>\n",
       "</div>"
      ],
      "text/plain": [
       "     value                                           i94cntyl\n",
       "0      582  MEXICO Air Sea, and Not Reported (I-94, no lan...\n",
       "1      236                                        AFGHANISTAN\n",
       "2      101                                            ALBANIA\n",
       "3      316                                            ALGERIA\n",
       "4      102                                            ANDORRA\n",
       "..     ...                                                ...\n",
       "284    791                              No Country Code (791)\n",
       "285    849                              No Country Code (849)\n",
       "286    914                              No Country Code (914)\n",
       "287    944                              No Country Code (944)\n",
       "288    996                              No Country Code (996)\n",
       "\n",
       "[289 rows x 2 columns]"
      ]
     },
     "execution_count": 222,
     "metadata": {},
     "output_type": "execute_result"
    }
   ],
   "source": [
    "df_map"
   ]
  },
  {
   "cell_type": "code",
   "execution_count": 235,
   "metadata": {},
   "outputs": [],
   "source": [
    "#df, map_col_name, df_col_name, new_col_name\n",
    "df_test = df_time\n",
    "df_test = map_col(df_test, 'i94cntyl', 'i94cit', 'state_cit')\n",
    "df_test = map_col(df_test, 'i94cntyl', 'i94res', 'state_res')\n",
    "df_test = map_col(df_test, 'i94prtl', 'i94port', 'port')\n",
    "df_test = map_col(df_test, 'i94addrl', 'i94addr', 'us_state')\n",
    "df_test = map_col(df_test, 'i94visa', 'i94visa', 'visa')"
   ]
  },
  {
   "cell_type": "code",
   "execution_count": 236,
   "metadata": {},
   "outputs": [
    {
     "name": "stdout",
     "output_type": "stream",
     "text": [
      "+--------+-----+------+------+------+-------+-------+-------+-------+-------+------+-------+-----+--------+--------+-----+-------+-------+-------+-------+-------+--------+------+------+-------+----------+-----+--------+------------+--------------+--------------+--------------------+--------+--------+\n",
      "|   cicid|i94yr|i94mon|i94cit|i94res|i94port|arrdate|i94mode|i94addr|depdate|i94bir|i94visa|count|dtadfile|visapost|occup|entdepa|entdepd|entdepu|matflag|biryear| dtaddto|gender|insnum|airline|    admnum|fltno|visatype|arrival_date|     state_cit|     state_res|                port|us_state|    visa|\n",
      "+--------+-----+------+------+------+-------+-------+-------+-------+-------+------+-------+-----+--------+--------+-----+-------+-------+-------+-------+-------+--------+------+------+-------+----------+-----+--------+------------+--------------+--------------+--------------------+--------+--------+\n",
      "|459651.0| 2016|     4|   135|   135|    ATL|  20547|      1|     FL|  20559|    54|      2|    1|20160403|    null| null|      O|      R|   null|      M|   1962|07012016|  null|  null|     VS|2147483647|00115|      WT|  2016-04-03|UNITED KINGDOM|UNITED KINGDOM|ATLANTA, GA      ...| FLORIDA|Pleasure|\n",
      "|459652.0| 2016|     4|   135|   135|    ATL|  20547|      1|     FL|  20555|    74|      2|    1|20160403|    null| null|      T|      O|   null|      M|   1942|07012016|     F|  null|     VS| 674406485|  103|      WT|  2016-04-03|UNITED KINGDOM|UNITED KINGDOM|ATLANTA, GA      ...| FLORIDA|Pleasure|\n",
      "|459653.0| 2016|     4|   135|   135|    ATL|  20547|      1|     FL|  20557|    44|      2|    1|20160403|    null| null|      T|      Q|   null|      M|   1972|10022016|     M|  null|     VS| 674948185|  109|      B2|  2016-04-03|UNITED KINGDOM|UNITED KINGDOM|ATLANTA, GA      ...| FLORIDA|Pleasure|\n",
      "|459654.0| 2016|     4|   135|   135|    ATL|  20547|      1|      G|  20555|    38|      2|    1|20160403|    null| null|      O|      O|   null|      M|   1978|07012016|  null|  null|     VS|2147483647|00103|      WT|  2016-04-03|UNITED KINGDOM|UNITED KINGDOM|ATLANTA, GA      ...|    null|Pleasure|\n",
      "|459655.0| 2016|     4|   135|   135|    ATL|  20547|      1|     GA|   null|    64|      2|    1|20160403|    null| null|      G|   null|   null|   null|   1952|07012016|     F|  null|     VS|2147483647|00103|      WT|  2016-04-03|UNITED KINGDOM|UNITED KINGDOM|ATLANTA, GA      ...| GEORGIA|Pleasure|\n",
      "|459656.0| 2016|     4|   135|   135|    ATL|  20547|      1|     GA|   null|    63|      2|    1|20160403|    null| null|      G|   null|   null|   null|   1953|07012016|     M|  null|     BA|2147483647|00227|      WT|  2016-04-03|UNITED KINGDOM|UNITED KINGDOM|ATLANTA, GA      ...| GEORGIA|Pleasure|\n",
      "|459657.0| 2016|     4|   135|   135|    ATL|  20547|      1|     GA|  20548|    44|      1|    1|20160403|    null| null|      G|      I|   null|      M|   1972|07012016|     M|  null|     BA|2147483647|00227|      WB|  2016-04-03|UNITED KINGDOM|UNITED KINGDOM|ATLANTA, GA      ...| GEORGIA|Business|\n",
      "|459658.0| 2016|     4|   135|   135|    ATL|  20547|      1|     GA|  20548|    39|      1|    1|20160403|    null| null|      G|      I|   null|      M|   1977|07012016|     M|  null|     BA|2147483647|00227|      WB|  2016-04-03|UNITED KINGDOM|UNITED KINGDOM|ATLANTA, GA      ...| GEORGIA|Business|\n",
      "|459659.0| 2016|     4|   135|   135|    ATL|  20547|      1|     GA|  20573|    84|      2|    1|20160403|    null| null|      G|      I|   null|      M|   1932|07012016|     M|  null|     BA|2147483647|00227|      WT|  2016-04-03|UNITED KINGDOM|UNITED KINGDOM|ATLANTA, GA      ...| GEORGIA|Pleasure|\n",
      "|459660.0| 2016|     4|   135|   135|    ATL|  20547|      1|     GA|  20555|    55|      2|    1|20160403|    null| null|      G|      N|   null|      M|   1961|07012016|     M|  null|     BA|2147483647|00227|      WT|  2016-04-03|UNITED KINGDOM|UNITED KINGDOM|ATLANTA, GA      ...| GEORGIA|Pleasure|\n",
      "|459661.0| 2016|     4|   135|   135|    ATL|  20547|      1|     GA|  20555|    54|      2|    1|20160403|    null| null|      G|      N|   null|      M|   1962|07012016|     M|  null|     BA|2147483647|00227|      WT|  2016-04-03|UNITED KINGDOM|UNITED KINGDOM|ATLANTA, GA      ...| GEORGIA|Pleasure|\n",
      "|459662.0| 2016|     4|   135|   135|    ATL|  20547|      1|     GA|  20548|    36|      2|    1|20160403|    null| null|      G|      O|   null|      M|   1980|07012016|     M|  null|     DL|2147483647|00349|      WT|  2016-04-03|UNITED KINGDOM|UNITED KINGDOM|ATLANTA, GA      ...| GEORGIA|Pleasure|\n",
      "|459663.0| 2016|     4|   135|   135|    ATL|  20547|      1|     GA|  20549|    71|      1|    1|20160403|    null| null|      G|      O|   null|      M|   1945|07012016|     M|  null|     DL|2147483647|00031|      WB|  2016-04-03|UNITED KINGDOM|UNITED KINGDOM|ATLANTA, GA      ...| GEORGIA|Business|\n",
      "|459664.0| 2016|     4|   135|   135|    ATL|  20547|      1|     GA|  20549|    39|      2|    1|20160403|    null| null|      G|      O|   null|      M|   1977|07012016|     M|  null|     VS|2147483647|00109|      WT|  2016-04-03|UNITED KINGDOM|UNITED KINGDOM|ATLANTA, GA      ...| GEORGIA|Pleasure|\n",
      "|459665.0| 2016|     4|   135|   135|    ATL|  20547|      1|     GA|  20550|    54|      1|    1|20160403|    null| null|      G|      O|   null|      M|   1962|07012016|     M|  null|     BA|2147483647|00227|      WB|  2016-04-03|UNITED KINGDOM|UNITED KINGDOM|ATLANTA, GA      ...| GEORGIA|Business|\n",
      "|459666.0| 2016|     4|   135|   135|    ATL|  20547|      1|     GA|  20550|    51|      1|    1|20160403|    null| null|      G|      O|   null|      M|   1965|07012016|     M|  null|     BA|2147483647|00227|      WB|  2016-04-03|UNITED KINGDOM|UNITED KINGDOM|ATLANTA, GA      ...| GEORGIA|Business|\n",
      "|459667.0| 2016|     4|   135|   135|    ATL|  20547|      1|     GA|  20550|    43|      1|    1|20160403|    null| null|      G|      O|   null|      M|   1973|07012016|     M|  null|     DL|2147483647|00031|      WB|  2016-04-03|UNITED KINGDOM|UNITED KINGDOM|ATLANTA, GA      ...| GEORGIA|Business|\n",
      "|459668.0| 2016|     4|   135|   135|    ATL|  20547|      1|     GA|  20550|    37|      1|    1|20160403|    null| null|      G|      O|   null|      M|   1979|07012016|     F|  null|     DL|2147483647|00029|      WB|  2016-04-03|UNITED KINGDOM|UNITED KINGDOM|ATLANTA, GA      ...| GEORGIA|Business|\n",
      "|459669.0| 2016|     4|   135|   135|    ATL|  20547|      1|     GA|  20550|    33|      1|    1|20160403|    null| null|      G|      O|   null|      M|   1983|07012016|     F|  null|     VS|2147483647|00109|      WB|  2016-04-03|UNITED KINGDOM|UNITED KINGDOM|ATLANTA, GA      ...| GEORGIA|Business|\n",
      "|459670.0| 2016|     4|   135|   135|    ATL|  20547|      1|     GA|  20550|    50|      1|    1|20160403|    null| null|      G|      O|   null|      M|   1966|07012016|     M|  null|     DL|2147483647|00031|      WB|  2016-04-03|UNITED KINGDOM|UNITED KINGDOM|ATLANTA, GA      ...| GEORGIA|Business|\n",
      "+--------+-----+------+------+------+-------+-------+-------+-------+-------+------+-------+-----+--------+--------+-----+-------+-------+-------+-------+-------+--------+------+------+-------+----------+-----+--------+------------+--------------+--------------+--------------------+--------+--------+\n",
      "only showing top 20 rows\n",
      "\n"
     ]
    }
   ],
   "source": [
    "df_test.show()"
   ]
  },
  {
   "cell_type": "code",
   "execution_count": 239,
   "metadata": {},
   "outputs": [
    {
     "data": {
      "text/plain": [
       "[Row(cicid=459651.0, i94yr=2016, i94mon=4, i94cit=135, i94res=135, i94port='ATL', arrdate=20547, i94mode=1, i94addr='FL', depdate=20559, i94bir=54, i94visa=2, count=1, dtadfile='20160403', visapost=None, occup=None, entdepa='O', entdepd='R', entdepu=None, matflag='M', biryear=1962, dtaddto='07012016', gender=None, insnum=None, airline='VS', admnum=2147483647, fltno='00115', visatype='WT', arrival_date=datetime.date(2016, 4, 3), state_cit='UNITED KINGDOM', state_res='UNITED KINGDOM', port='ATLANTA, GA           ', us_state='FLORIDA', visa='Pleasure'),\n",
       " Row(cicid=459652.0, i94yr=2016, i94mon=4, i94cit=135, i94res=135, i94port='ATL', arrdate=20547, i94mode=1, i94addr='FL', depdate=20555, i94bir=74, i94visa=2, count=1, dtadfile='20160403', visapost=None, occup=None, entdepa='T', entdepd='O', entdepu=None, matflag='M', biryear=1942, dtaddto='07012016', gender='F', insnum=None, airline='VS', admnum=674406485, fltno='103', visatype='WT', arrival_date=datetime.date(2016, 4, 3), state_cit='UNITED KINGDOM', state_res='UNITED KINGDOM', port='ATLANTA, GA           ', us_state='FLORIDA', visa='Pleasure'),\n",
       " Row(cicid=459653.0, i94yr=2016, i94mon=4, i94cit=135, i94res=135, i94port='ATL', arrdate=20547, i94mode=1, i94addr='FL', depdate=20557, i94bir=44, i94visa=2, count=1, dtadfile='20160403', visapost=None, occup=None, entdepa='T', entdepd='Q', entdepu=None, matflag='M', biryear=1972, dtaddto='10022016', gender='M', insnum=None, airline='VS', admnum=674948185, fltno='109', visatype='B2', arrival_date=datetime.date(2016, 4, 3), state_cit='UNITED KINGDOM', state_res='UNITED KINGDOM', port='ATLANTA, GA           ', us_state='FLORIDA', visa='Pleasure'),\n",
       " Row(cicid=459654.0, i94yr=2016, i94mon=4, i94cit=135, i94res=135, i94port='ATL', arrdate=20547, i94mode=1, i94addr='G', depdate=20555, i94bir=38, i94visa=2, count=1, dtadfile='20160403', visapost=None, occup=None, entdepa='O', entdepd='O', entdepu=None, matflag='M', biryear=1978, dtaddto='07012016', gender=None, insnum=None, airline='VS', admnum=2147483647, fltno='00103', visatype='WT', arrival_date=datetime.date(2016, 4, 3), state_cit='UNITED KINGDOM', state_res='UNITED KINGDOM', port='ATLANTA, GA           ', us_state=None, visa='Pleasure'),\n",
       " Row(cicid=459655.0, i94yr=2016, i94mon=4, i94cit=135, i94res=135, i94port='ATL', arrdate=20547, i94mode=1, i94addr='GA', depdate=None, i94bir=64, i94visa=2, count=1, dtadfile='20160403', visapost=None, occup=None, entdepa='G', entdepd=None, entdepu=None, matflag=None, biryear=1952, dtaddto='07012016', gender='F', insnum=None, airline='VS', admnum=2147483647, fltno='00103', visatype='WT', arrival_date=datetime.date(2016, 4, 3), state_cit='UNITED KINGDOM', state_res='UNITED KINGDOM', port='ATLANTA, GA           ', us_state='GEORGIA', visa='Pleasure'),\n",
       " Row(cicid=459656.0, i94yr=2016, i94mon=4, i94cit=135, i94res=135, i94port='ATL', arrdate=20547, i94mode=1, i94addr='GA', depdate=None, i94bir=63, i94visa=2, count=1, dtadfile='20160403', visapost=None, occup=None, entdepa='G', entdepd=None, entdepu=None, matflag=None, biryear=1953, dtaddto='07012016', gender='M', insnum=None, airline='BA', admnum=2147483647, fltno='00227', visatype='WT', arrival_date=datetime.date(2016, 4, 3), state_cit='UNITED KINGDOM', state_res='UNITED KINGDOM', port='ATLANTA, GA           ', us_state='GEORGIA', visa='Pleasure'),\n",
       " Row(cicid=459657.0, i94yr=2016, i94mon=4, i94cit=135, i94res=135, i94port='ATL', arrdate=20547, i94mode=1, i94addr='GA', depdate=20548, i94bir=44, i94visa=1, count=1, dtadfile='20160403', visapost=None, occup=None, entdepa='G', entdepd='I', entdepu=None, matflag='M', biryear=1972, dtaddto='07012016', gender='M', insnum=None, airline='BA', admnum=2147483647, fltno='00227', visatype='WB', arrival_date=datetime.date(2016, 4, 3), state_cit='UNITED KINGDOM', state_res='UNITED KINGDOM', port='ATLANTA, GA           ', us_state='GEORGIA', visa='Business'),\n",
       " Row(cicid=459658.0, i94yr=2016, i94mon=4, i94cit=135, i94res=135, i94port='ATL', arrdate=20547, i94mode=1, i94addr='GA', depdate=20548, i94bir=39, i94visa=1, count=1, dtadfile='20160403', visapost=None, occup=None, entdepa='G', entdepd='I', entdepu=None, matflag='M', biryear=1977, dtaddto='07012016', gender='M', insnum=None, airline='BA', admnum=2147483647, fltno='00227', visatype='WB', arrival_date=datetime.date(2016, 4, 3), state_cit='UNITED KINGDOM', state_res='UNITED KINGDOM', port='ATLANTA, GA           ', us_state='GEORGIA', visa='Business'),\n",
       " Row(cicid=459659.0, i94yr=2016, i94mon=4, i94cit=135, i94res=135, i94port='ATL', arrdate=20547, i94mode=1, i94addr='GA', depdate=20573, i94bir=84, i94visa=2, count=1, dtadfile='20160403', visapost=None, occup=None, entdepa='G', entdepd='I', entdepu=None, matflag='M', biryear=1932, dtaddto='07012016', gender='M', insnum=None, airline='BA', admnum=2147483647, fltno='00227', visatype='WT', arrival_date=datetime.date(2016, 4, 3), state_cit='UNITED KINGDOM', state_res='UNITED KINGDOM', port='ATLANTA, GA           ', us_state='GEORGIA', visa='Pleasure'),\n",
       " Row(cicid=459660.0, i94yr=2016, i94mon=4, i94cit=135, i94res=135, i94port='ATL', arrdate=20547, i94mode=1, i94addr='GA', depdate=20555, i94bir=55, i94visa=2, count=1, dtadfile='20160403', visapost=None, occup=None, entdepa='G', entdepd='N', entdepu=None, matflag='M', biryear=1961, dtaddto='07012016', gender='M', insnum=None, airline='BA', admnum=2147483647, fltno='00227', visatype='WT', arrival_date=datetime.date(2016, 4, 3), state_cit='UNITED KINGDOM', state_res='UNITED KINGDOM', port='ATLANTA, GA           ', us_state='GEORGIA', visa='Pleasure')]"
      ]
     },
     "execution_count": 239,
     "metadata": {},
     "output_type": "execute_result"
    }
   ],
   "source": [
    "df_test.head(10)"
   ]
  },
  {
   "cell_type": "code",
   "execution_count": 168,
   "metadata": {},
   "outputs": [],
   "source": [
    "df_test"
   ]
  },
  {
   "cell_type": "markdown",
   "metadata": {},
   "source": [
    "# clean up city name of airport"
   ]
  },
  {
   "cell_type": "code",
   "execution_count": 247,
   "metadata": {},
   "outputs": [],
   "source": [
    "@udf\n",
    "def udf_city_name(city_full):\n",
    "    return str.split(city_full, ',')[0].capitalize()"
   ]
  },
  {
   "cell_type": "code",
   "execution_count": 248,
   "metadata": {},
   "outputs": [],
   "source": [
    "df_test = df_test.withColumn(\"port_city\", udf_city_name(\"port\"))"
   ]
  },
  {
   "cell_type": "code",
   "execution_count": 250,
   "metadata": {},
   "outputs": [
    {
     "data": {
      "text/plain": [
       "Row(cicid=459651.0, i94yr=2016, i94mon=4, i94cit=135, i94res=135, i94port='ATL', arrdate=20547, i94mode=1, i94addr='FL', depdate=20559, i94bir=54, i94visa=2, count=1, dtadfile='20160403', visapost=None, occup=None, entdepa='O', entdepd='R', entdepu=None, matflag='M', biryear=1962, dtaddto='07012016', gender=None, insnum=None, airline='VS', admnum=2147483647, fltno='00115', visatype='WT', arrival_date=datetime.date(2016, 4, 3), state_cit='UNITED KINGDOM', state_res='UNITED KINGDOM', port='ATLANTA, GA           ', us_state='FLORIDA', visa='Pleasure', port_city='Atlanta')"
      ]
     },
     "execution_count": 250,
     "metadata": {},
     "output_type": "execute_result"
    }
   ],
   "source": [
    "df_test.head()"
   ]
  },
  {
   "cell_type": "code",
   "execution_count": null,
   "metadata": {},
   "outputs": [],
   "source": []
  },
  {
   "cell_type": "markdown",
   "metadata": {},
   "source": [
    "# merge with demographic data"
   ]
  },
  {
   "cell_type": "code",
   "execution_count": null,
   "metadata": {},
   "outputs": [],
   "source": []
  }
 ],
 "metadata": {
  "kernelspec": {
   "display_name": "Python 3",
   "language": "python",
   "name": "python3"
  },
  "language_info": {
   "codemirror_mode": {
    "name": "ipython",
    "version": 3
   },
   "file_extension": ".py",
   "mimetype": "text/x-python",
   "name": "python",
   "nbconvert_exporter": "python",
   "pygments_lexer": "ipython3",
   "version": "3.7.2"
  }
 },
 "nbformat": 4,
 "nbformat_minor": 2
}
