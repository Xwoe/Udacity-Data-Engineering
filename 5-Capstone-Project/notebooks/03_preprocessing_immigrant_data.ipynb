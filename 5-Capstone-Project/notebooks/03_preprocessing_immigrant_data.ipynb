{
 "cells": [
  {
   "cell_type": "code",
   "execution_count": 1,
   "metadata": {},
   "outputs": [],
   "source": [
    "import os\n",
    "import pandas as pd\n",
    "import numpy as np\n",
    "from pyspark.sql import SparkSession\n",
    "from pyspark.sql import SparkSession\n",
    "import pyspark.sql.functions as F\n",
    "import pyspark.sql.types as T\n",
    "from itertools import chain\n",
    "from pyspark.sql.functions import udf"
   ]
  },
  {
   "cell_type": "code",
   "execution_count": 2,
   "metadata": {},
   "outputs": [],
   "source": [
    "DATAFOLDER = '/Users/christian/Data/udacity_capstone/'"
   ]
  },
  {
   "cell_type": "code",
   "execution_count": 3,
   "metadata": {},
   "outputs": [],
   "source": [
    "def get_immi_schema():\n",
    "    \"\"\"\n",
    "    Map the column names to datatypes and return as a schema.\n",
    "    \"\"\"\n",
    "    immi_schema = T.StructType([\n",
    "        T.StructField('cicid', T.IntegerType()),\n",
    "        T.StructField('i94yr', T.StringType()),\n",
    "        T.StructField('i94mon', T.StringType()),\n",
    "        T.StructField('i94cit', T.StringType()),\n",
    "        T.StructField('i94res', T.IntegerType()),\n",
    "        T.StructField('i94port', T.StringType()),\n",
    "        T.StructField('arrdate', T.StringType()),\n",
    "        T.StructField('i94mode', T.StringType()),\n",
    "        T.StructField('i94addr', T.StringType()),\n",
    "        T.StructField('depdate', T.StringType()),\n",
    "        T.StructField('i94bir', T.StringType()),\n",
    "        T.StructField('i94visa', T.StringType()),\n",
    "        T.StructField('count',  T.IntegerType()),\n",
    "        T.StructField('dtadfile', T.StringType()),\n",
    "        T.StructField('visapost', T.IntegerType()),\n",
    "        T.StructField('occup', T.StringType()),\n",
    "        T.StructField('entdepa', T.StringType()),\n",
    "        T.StructField('entdepd', T.IntegerType()),\n",
    "        T.StructField('entdepu', T.StringType()),\n",
    "        T.StructField('matflag', T.StringType()),\n",
    "        T.StructField('biryear', T.StringType()),\n",
    "        T.StructField('dtaddto', T.StringType()),\n",
    "        T.StructField('gender', T.StringType()),\n",
    "        T.StructField('insnum', T.StringType()),\n",
    "        T.StructField('airline', T.StringType()),\n",
    "        T.StructField('admnum', T.StringType()),\n",
    "        T.StructField('fltno', T.StringType()),\n",
    "        T.StructField('visatype', T.StringType()),\n",
    "    ])\n",
    "    return immi_schema\n"
   ]
  },
  {
   "cell_type": "code",
   "execution_count": 4,
   "metadata": {},
   "outputs": [],
   "source": [
    "schema = get_immi_schema()\n"
   ]
  },
  {
   "cell_type": "code",
   "execution_count": 5,
   "metadata": {},
   "outputs": [],
   "source": [
    "\n",
    "spark = SparkSession.builder.\\\n",
    "config(\"spark.jars.packages\",\"saurfang:spark-sas7bdat:2.0.0-s_2.11\")\\\n",
    ".enableHiveSupport().getOrCreate()\n",
    "#df_spark = spark.read.format('com.github.saurfang.sas.spark').load('../../data/18-83510-I94-Data-2016/i94_apr16_sub.sas7bdat')\n",
    "df_spark = spark.read.option(\"mergeSchema\", \"true\").parquet(os.path.join(DATAFOLDER, 'sas_data'))"
   ]
  },
  {
   "cell_type": "markdown",
   "metadata": {},
   "source": [
    "# convert data types"
   ]
  },
  {
   "cell_type": "code",
   "execution_count": 6,
   "metadata": {},
   "outputs": [],
   "source": [
    "df_spark = df_spark.withColumn('i94yr', df_spark['i94yr'].cast(T.IntegerType())).\\\n",
    "        withColumn('i94mon', df_spark['i94mon'].cast(T.IntegerType())).\\\n",
    "        withColumn('i94cit', df_spark['i94cit'].cast(T.IntegerType())).\\\n",
    "        withColumn('i94res', df_spark['i94res'].cast(T.IntegerType())).\\\n",
    "        withColumn('arrdate', df_spark['arrdate'].cast(T.IntegerType())).\\\n",
    "        withColumn('i94mode', df_spark['i94mode'].cast(T.IntegerType())).\\\n",
    "        withColumn('depdate', df_spark['depdate'].cast(T.IntegerType())).\\\n",
    "        withColumn('i94bir', df_spark['i94bir'].cast(T.IntegerType())).\\\n",
    "        withColumn('i94visa', df_spark['i94visa'].cast(T.IntegerType())).\\\n",
    "        withColumn('count', df_spark['count'].cast(T.IntegerType())).\\\n",
    "        withColumn('biryear', df_spark['biryear'].cast(T.IntegerType())).\\\n",
    "        withColumn('admnum', df_spark['admnum'].cast(T.IntegerType()))"
   ]
  },
  {
   "cell_type": "code",
   "execution_count": 13,
   "metadata": {},
   "outputs": [],
   "source": [
    "df_sample = pd.read_csv(os.path.join(DATAFOLDER, 'immigration_data_sample.csv'))"
   ]
  },
  {
   "cell_type": "code",
   "execution_count": 14,
   "metadata": {},
   "outputs": [
    {
     "data": {
      "text/plain": [
       "Row(cicid=459651.0, i94yr=2016, i94mon=4, i94cit=135, i94res=135, i94port='ATL', arrdate=20547, i94mode=1, i94addr='FL', depdate=20559, i94bir=54, i94visa=2, count=1, dtadfile='20160403', visapost=None, occup=None, entdepa='O', entdepd='R', entdepu=None, matflag='M', biryear=1962, dtaddto='07012016', gender=None, insnum=None, airline='VS', admnum=2147483647, fltno='00115', visatype='WT')"
      ]
     },
     "execution_count": 14,
     "metadata": {},
     "output_type": "execute_result"
    }
   ],
   "source": [
    "df_spark.head()"
   ]
  },
  {
   "cell_type": "code",
   "execution_count": 77,
   "metadata": {},
   "outputs": [],
   "source": [
    "df_time = df_spark\n",
    "df_time = df_time.withColumn(\"arrival_date\", F.expr(\"date_add(to_date('1960-01-01'), arrdate)\"))\n",
    "df_time = df_time.withColumn(\"depart_date\", F.expr(\"date_add(to_date('1960-01-01'), depdate)\"))\n"
   ]
  },
  {
   "cell_type": "code",
   "execution_count": 80,
   "metadata": {},
   "outputs": [
    {
     "name": "stdout",
     "output_type": "stream",
     "text": [
      "+--------+-----+------+------+------+-------+-------+-------+-------+-------+------+-------+-----+--------+--------+-----+-------+-------+-------+-------+-------+--------+------+------+-------+----------+-----+--------+------------+-----------+---------+\n",
      "|   cicid|i94yr|i94mon|i94cit|i94res|i94port|arrdate|i94mode|i94addr|depdate|i94bir|i94visa|count|dtadfile|visapost|occup|entdepa|entdepd|entdepu|matflag|biryear| dtaddto|gender|insnum|airline|    admnum|fltno|visatype|arrival_date|depart_date|diff_days|\n",
      "+--------+-----+------+------+------+-------+-------+-------+-------+-------+------+-------+-----+--------+--------+-----+-------+-------+-------+-------+-------+--------+------+------+-------+----------+-----+--------+------------+-----------+---------+\n",
      "|459651.0| 2016|     4|   135|   135|    ATL|  20547|      1|     FL|  20559|    54|      2|    1|20160403|    null| null|      O|      R|   null|      M|   1962|07012016|  null|  null|     VS|2147483647|00115|      WT|  2016-04-03| 2016-04-15|       12|\n",
      "|459652.0| 2016|     4|   135|   135|    ATL|  20547|      1|     FL|  20555|    74|      2|    1|20160403|    null| null|      T|      O|   null|      M|   1942|07012016|     F|  null|     VS| 674406485|  103|      WT|  2016-04-03| 2016-04-11|        8|\n",
      "|459653.0| 2016|     4|   135|   135|    ATL|  20547|      1|     FL|  20557|    44|      2|    1|20160403|    null| null|      T|      Q|   null|      M|   1972|10022016|     M|  null|     VS| 674948185|  109|      B2|  2016-04-03| 2016-04-13|       10|\n",
      "|459654.0| 2016|     4|   135|   135|    ATL|  20547|      1|      G|  20555|    38|      2|    1|20160403|    null| null|      O|      O|   null|      M|   1978|07012016|  null|  null|     VS|2147483647|00103|      WT|  2016-04-03| 2016-04-11|        8|\n",
      "|459655.0| 2016|     4|   135|   135|    ATL|  20547|      1|     GA|   null|    64|      2|    1|20160403|    null| null|      G|   null|   null|   null|   1952|07012016|     F|  null|     VS|2147483647|00103|      WT|  2016-04-03|       null|     null|\n",
      "|459656.0| 2016|     4|   135|   135|    ATL|  20547|      1|     GA|   null|    63|      2|    1|20160403|    null| null|      G|   null|   null|   null|   1953|07012016|     M|  null|     BA|2147483647|00227|      WT|  2016-04-03|       null|     null|\n",
      "|459657.0| 2016|     4|   135|   135|    ATL|  20547|      1|     GA|  20548|    44|      1|    1|20160403|    null| null|      G|      I|   null|      M|   1972|07012016|     M|  null|     BA|2147483647|00227|      WB|  2016-04-03| 2016-04-04|        1|\n",
      "|459658.0| 2016|     4|   135|   135|    ATL|  20547|      1|     GA|  20548|    39|      1|    1|20160403|    null| null|      G|      I|   null|      M|   1977|07012016|     M|  null|     BA|2147483647|00227|      WB|  2016-04-03| 2016-04-04|        1|\n",
      "|459659.0| 2016|     4|   135|   135|    ATL|  20547|      1|     GA|  20573|    84|      2|    1|20160403|    null| null|      G|      I|   null|      M|   1932|07012016|     M|  null|     BA|2147483647|00227|      WT|  2016-04-03| 2016-04-29|       26|\n",
      "|459660.0| 2016|     4|   135|   135|    ATL|  20547|      1|     GA|  20555|    55|      2|    1|20160403|    null| null|      G|      N|   null|      M|   1961|07012016|     M|  null|     BA|2147483647|00227|      WT|  2016-04-03| 2016-04-11|        8|\n",
      "|459661.0| 2016|     4|   135|   135|    ATL|  20547|      1|     GA|  20555|    54|      2|    1|20160403|    null| null|      G|      N|   null|      M|   1962|07012016|     M|  null|     BA|2147483647|00227|      WT|  2016-04-03| 2016-04-11|        8|\n",
      "|459662.0| 2016|     4|   135|   135|    ATL|  20547|      1|     GA|  20548|    36|      2|    1|20160403|    null| null|      G|      O|   null|      M|   1980|07012016|     M|  null|     DL|2147483647|00349|      WT|  2016-04-03| 2016-04-04|        1|\n",
      "|459663.0| 2016|     4|   135|   135|    ATL|  20547|      1|     GA|  20549|    71|      1|    1|20160403|    null| null|      G|      O|   null|      M|   1945|07012016|     M|  null|     DL|2147483647|00031|      WB|  2016-04-03| 2016-04-05|        2|\n",
      "|459664.0| 2016|     4|   135|   135|    ATL|  20547|      1|     GA|  20549|    39|      2|    1|20160403|    null| null|      G|      O|   null|      M|   1977|07012016|     M|  null|     VS|2147483647|00109|      WT|  2016-04-03| 2016-04-05|        2|\n",
      "|459665.0| 2016|     4|   135|   135|    ATL|  20547|      1|     GA|  20550|    54|      1|    1|20160403|    null| null|      G|      O|   null|      M|   1962|07012016|     M|  null|     BA|2147483647|00227|      WB|  2016-04-03| 2016-04-06|        3|\n",
      "|459666.0| 2016|     4|   135|   135|    ATL|  20547|      1|     GA|  20550|    51|      1|    1|20160403|    null| null|      G|      O|   null|      M|   1965|07012016|     M|  null|     BA|2147483647|00227|      WB|  2016-04-03| 2016-04-06|        3|\n",
      "|459667.0| 2016|     4|   135|   135|    ATL|  20547|      1|     GA|  20550|    43|      1|    1|20160403|    null| null|      G|      O|   null|      M|   1973|07012016|     M|  null|     DL|2147483647|00031|      WB|  2016-04-03| 2016-04-06|        3|\n",
      "|459668.0| 2016|     4|   135|   135|    ATL|  20547|      1|     GA|  20550|    37|      1|    1|20160403|    null| null|      G|      O|   null|      M|   1979|07012016|     F|  null|     DL|2147483647|00029|      WB|  2016-04-03| 2016-04-06|        3|\n",
      "|459669.0| 2016|     4|   135|   135|    ATL|  20547|      1|     GA|  20550|    33|      1|    1|20160403|    null| null|      G|      O|   null|      M|   1983|07012016|     F|  null|     VS|2147483647|00109|      WB|  2016-04-03| 2016-04-06|        3|\n",
      "|459670.0| 2016|     4|   135|   135|    ATL|  20547|      1|     GA|  20550|    50|      1|    1|20160403|    null| null|      G|      O|   null|      M|   1966|07012016|     M|  null|     DL|2147483647|00031|      WB|  2016-04-03| 2016-04-06|        3|\n",
      "+--------+-----+------+------+------+-------+-------+-------+-------+-------+------+-------+-----+--------+--------+-----+-------+-------+-------+-------+-------+--------+------+------+-------+----------+-----+--------+------------+-----------+---------+\n",
      "only showing top 20 rows\n",
      "\n"
     ]
    }
   ],
   "source": [
    "df_time.withColumn(\"diff_days\", F.datediff(\"depart_date\", \"arrival_date\")).show()"
   ]
  },
  {
   "cell_type": "markdown",
   "metadata": {},
   "source": [
    "## map i94addrl - state"
   ]
  },
  {
   "cell_type": "code",
   "execution_count": 109,
   "metadata": {},
   "outputs": [],
   "source": [
    "\n",
    "def map_col(df, map_col_name, df_col_name, new_col_name):\n",
    "    \"\"\"\n",
    "    \n",
    "    Parameters\n",
    "    ----------\n",
    "    df : spark dataframe\n",
    "        The file containing the df_col_name to be used for mapping.\n",
    "    map_col_name : str\n",
    "        The column name of the mapping file.\n",
    "    df_col_name : str\n",
    "        The column name in the Spark dataframe to be used.\n",
    "    new_col_name : str\n",
    "        New column name of the mapping results.\n",
    "    \n",
    "    \n",
    "    \"\"\"\n",
    "    df_map = pd.read_csv(os.path.join(DATAFOLDER, f'{map_col_name}.csv'), quotechar=\"'\")\n",
    "    dic_map = dict(zip(df_map['value'], df_map[map_col_name]))\n",
    "    mapping_expr = F.create_map([F.lit(x) for x in chain(*dic_map.items())])\n",
    "    return df.withColumn(new_col_name, mapping_expr[F.col(df_col_name)])\n",
    "\n",
    "\n",
    "\n",
    "@udf\n",
    "def udf_city_name(city_full):\n",
    "    splt = str.split(city_full, ',')\n",
    "    if len(splt) == 0:\n",
    "        return ''\n",
    "    return splt[0].capitalize().strip()\n",
    "\n",
    "@udf\n",
    "def udf_state_short(city_full):\n",
    "    splt = str.split(city_full, ',')\n",
    "    if len(splt) < 2:\n",
    "        return ''\n",
    "    return splt[1].strip()\n",
    "\n",
    "@udf\n",
    "def udf_state_format(port_state):\n",
    "    return port_state.capitalize()"
   ]
  },
  {
   "cell_type": "code",
   "execution_count": 110,
   "metadata": {},
   "outputs": [
    {
     "name": "stdout",
     "output_type": "stream",
     "text": [
      "+-------+\n",
      "|i94addr|\n",
      "+-------+\n",
      "|     CI|\n",
      "|     FT|\n",
      "|     SC|\n",
      "|     AZ|\n",
      "|     PU|\n",
      "|     UA|\n",
      "|     EA|\n",
      "|     NS|\n",
      "|     KI|\n",
      "|     PI|\n",
      "+-------+\n",
      "only showing top 10 rows\n",
      "\n"
     ]
    }
   ],
   "source": [
    "df_test.select(\"i94addr\").distinct().show(10)"
   ]
  },
  {
   "cell_type": "markdown",
   "metadata": {},
   "source": [
    "# TODO replace mapping in i94addrl to have names in captialize!"
   ]
  },
  {
   "cell_type": "code",
   "execution_count": 124,
   "metadata": {},
   "outputs": [],
   "source": [
    "#df, map_col_name, df_col_name, new_col_name\n",
    "df_test = df_time\n",
    "#df_test = map_col(df_test, 'i94prtl', 'i94port', 'port')\n",
    "\n",
    "#df_test = df_test.withColumn(\"port_city\", udf_city_name(\"port\"))\n",
    "df_test = map_col(df_test, 'i94prtl_city', 'i94port', 'port_city')\n",
    "#df_test = df_test.withColumn(\"port_state_short\", udf_state_short(\"port\"))\n",
    "df_test = map_col(df_test, 'i94prtl_state', 'i94port', 'port_state_short')\n",
    "df_test = map_col(df_test, 'i94addrl', 'port_state_short', 'port_state')\n",
    "#df_test = df_test.withColumn('port_state_2', udf_state_format('port_state'))\n",
    "\n",
    "df_test = map_col(df_test, 'i94cntyl', 'i94cit', 'state_cit')\n",
    "df_test = map_col(df_test, 'i94cntyl', 'i94res', 'state_res')\n",
    "#df_test = map_col(df_test, 'i94addrl', 'i94addr', 'port_state')\n",
    "df_test = map_col(df_test, 'i94visa', 'i94visa', 'visa')\n",
    "#df_test = df_test.withColumn(\"port_state\", udf_state_format(\"port_state\"))"
   ]
  },
  {
   "cell_type": "code",
   "execution_count": 125,
   "metadata": {},
   "outputs": [
    {
     "name": "stdout",
     "output_type": "stream",
     "text": [
      "+--------+-----+------+------+------+-------+-------+-------+-------+-------+------+-------+-----+--------+--------+-----+-------+-------+-------+-------+-------+--------+------+------+-------+----------+-----+--------+------------+-----------+-----------+----------------+----------+--------------+--------------+--------+\n",
      "|   cicid|i94yr|i94mon|i94cit|i94res|i94port|arrdate|i94mode|i94addr|depdate|i94bir|i94visa|count|dtadfile|visapost|occup|entdepa|entdepd|entdepu|matflag|biryear| dtaddto|gender|insnum|airline|    admnum|fltno|visatype|arrival_date|depart_date|  port_city|port_state_short|port_state|     state_cit|     state_res|    visa|\n",
      "+--------+-----+------+------+------+-------+-------+-------+-------+-------+------+-------+-----+--------+--------+-----+-------+-------+-------+-------+-------+--------+------+------+-------+----------+-----+--------+------------+-----------+-----------+----------------+----------+--------------+--------------+--------+\n",
      "|467106.0| 2016|     4|   135|   135|    LOS|  20547|      1|   null|   null|    41|      2|    1|20160403|    null| null|      G|   null|   null|   null|   1975|07012016|     F|  null|     NZ|2147483647|00018|      WT|  2016-04-03|       null|Los Angeles|              CA|California|United Kingdom|United Kingdom|Pleasure|\n",
      "|467150.0| 2016|     4|   135|   135|    LOS|  20547|      1|   null|  20548|    72|      2|    1|20160403|    null| null|      G|      O|   null|      M|   1944|07012016|     M|  null|     NZ|2147483647|00001|      WT|  2016-04-03| 2016-04-04|Los Angeles|              CA|California|United Kingdom|United Kingdom|Pleasure|\n",
      "|467151.0| 2016|     4|   135|   135|    LOS|  20547|      1|   null|  20548|    70|      2|    1|20160403|    null| null|      G|      O|   null|      M|   1946|07012016|     M|  null|     NZ|2147483647|00001|      WT|  2016-04-03| 2016-04-04|Los Angeles|              CA|California|United Kingdom|United Kingdom|Pleasure|\n",
      "|467152.0| 2016|     4|   135|   135|    LOS|  20547|      1|   null|  20548|    69|      2|    1|20160403|    null| null|      G|      O|   null|      M|   1947|07012016|     F|  null|     NZ|2147483647|00001|      WT|  2016-04-03| 2016-04-04|Los Angeles|              CA|California|United Kingdom|United Kingdom|Pleasure|\n",
      "|467153.0| 2016|     4|   135|   135|    LOS|  20547|      1|   null|  20548|    63|      2|    1|20160403|    null| null|      G|      O|   null|      M|   1953|07012016|     M|  null|     NZ|2147483647|00001|      WT|  2016-04-03| 2016-04-04|Los Angeles|              CA|California|United Kingdom|United Kingdom|Pleasure|\n",
      "|467154.0| 2016|     4|   135|   135|    LOS|  20547|      1|   null|  20548|    62|      2|    1|20160403|    null| null|      G|      O|   null|      M|   1954|07012016|     M|  null|     NZ|2147483647|00001|      WT|  2016-04-03| 2016-04-04|Los Angeles|              CA|California|United Kingdom|United Kingdom|Pleasure|\n",
      "|467155.0| 2016|     4|   135|   135|    LOS|  20547|      1|   null|  20548|    61|      2|    1|20160403|    null| null|      G|      O|   null|      M|   1955|07012016|     F|  null|     NZ|2147483647|00001|      WT|  2016-04-03| 2016-04-04|Los Angeles|              CA|California|United Kingdom|United Kingdom|Pleasure|\n",
      "|467156.0| 2016|     4|   135|   135|    LOS|  20547|      1|   null|  20548|    61|      2|    1|20160403|    null| null|      G|      O|   null|      M|   1955|07012016|     M|  null|     NZ|2147483647|00001|      WT|  2016-04-03| 2016-04-04|Los Angeles|              CA|California|United Kingdom|United Kingdom|Pleasure|\n",
      "|467157.0| 2016|     4|   135|   135|    LOS|  20547|      1|   null|  20548|    60|      2|    1|20160403|    null| null|      G|      O|   null|      M|   1956|07012016|     F|  null|     NZ|2147483647|00001|      WT|  2016-04-03| 2016-04-04|Los Angeles|              CA|California|United Kingdom|United Kingdom|Pleasure|\n",
      "|467158.0| 2016|     4|   135|   135|    LOS|  20547|      1|   null|  20548|    59|      2|    1|20160403|    null| null|      G|      O|   null|      M|   1957|07012016|     F|  null|     NZ|2147483647|00001|      WT|  2016-04-03| 2016-04-04|Los Angeles|              CA|California|United Kingdom|United Kingdom|Pleasure|\n",
      "|467159.0| 2016|     4|   135|   135|    LOS|  20547|      1|   null|  20548|    59|      2|    1|20160403|    null| null|      G|      O|   null|      M|   1957|07012016|     M|  null|     NZ|2147483647|00001|      WT|  2016-04-03| 2016-04-04|Los Angeles|              CA|California|United Kingdom|United Kingdom|Pleasure|\n",
      "|467160.0| 2016|     4|   135|   135|    LOS|  20547|      1|   null|  20548|    56|      2|    1|20160403|    null| null|      G|      O|   null|      M|   1960|07012016|     F|  null|     NZ|2147483647|00001|      WT|  2016-04-03| 2016-04-04|Los Angeles|              CA|California|United Kingdom|United Kingdom|Pleasure|\n",
      "|467161.0| 2016|     4|   135|   135|    LOS|  20547|      1|   null|  20548|    37|      2|    1|20160403|    null| null|      G|      O|   null|      M|   1979|07012016|     F|  null|     NZ|2147483647|00001|      WT|  2016-04-03| 2016-04-04|Los Angeles|              CA|California|United Kingdom|United Kingdom|Pleasure|\n",
      "|467162.0| 2016|     4|   135|   135|    LOS|  20547|      1|   null|  20548|    37|      2|    1|20160403|    null| null|      G|      O|   null|      M|   1979|07012016|     M|  null|     NZ|2147483647|00001|      WT|  2016-04-03| 2016-04-04|Los Angeles|              CA|California|United Kingdom|United Kingdom|Pleasure|\n",
      "|467163.0| 2016|     4|   135|   135|    LOS|  20547|      1|   null|  20548|    36|      2|    1|20160403|    null| null|      G|      O|   null|      M|   1980|07012016|     M|  null|     NZ|2147483647|00001|      WT|  2016-04-03| 2016-04-04|Los Angeles|              CA|California|United Kingdom|United Kingdom|Pleasure|\n",
      "|467164.0| 2016|     4|   135|   135|    LOS|  20547|      1|   null|  20548|    33|      2|    1|20160403|    null| null|      G|      O|   null|      M|   1983|07012016|     M|  null|     NZ|2147483647|00001|      WT|  2016-04-03| 2016-04-04|Los Angeles|              CA|California|United Kingdom|United Kingdom|Pleasure|\n",
      "|467165.0| 2016|     4|   135|   135|    LOS|  20547|      1|   null|  20548|    30|      2|    1|20160403|    null| null|      G|      O|   null|      M|   1986|07012016|     M|  null|     NZ|2147483647|00001|      WT|  2016-04-03| 2016-04-04|Los Angeles|              CA|California|United Kingdom|United Kingdom|Pleasure|\n",
      "|467166.0| 2016|     4|   135|   135|    LOS|  20547|      1|   null|  20548|    30|      2|    1|20160403|    null| null|      G|      O|   null|      M|   1986|07012016|     M|  null|     NZ|2147483647|00001|      WT|  2016-04-03| 2016-04-04|Los Angeles|              CA|California|United Kingdom|United Kingdom|Pleasure|\n",
      "|467167.0| 2016|     4|   135|   135|    LOS|  20547|      1|   null|  20548|    29|      2|    1|20160403|    null| null|      G|      O|   null|      M|   1987|07012016|     F|  null|     NZ|2147483647|00001|      WT|  2016-04-03| 2016-04-04|Los Angeles|              CA|California|United Kingdom|United Kingdom|Pleasure|\n",
      "|467168.0| 2016|     4|   135|   135|    LOS|  20547|      1|   null|  20548|    26|      2|    1|20160403|    null| null|      G|      O|   null|      M|   1990|07012016|     M|  null|     NZ|2147483647|00001|      WT|  2016-04-03| 2016-04-04|Los Angeles|              CA|California|United Kingdom|United Kingdom|Pleasure|\n",
      "+--------+-----+------+------+------+-------+-------+-------+-------+-------+------+-------+-----+--------+--------+-----+-------+-------+-------+-------+-------+--------+------+------+-------+----------+-----+--------+------------+-----------+-----------+----------------+----------+--------------+--------------+--------+\n",
      "only showing top 20 rows\n",
      "\n"
     ]
    }
   ],
   "source": [
    "df_test.where(F.col(\"i94port\") == 'LOS').show()"
   ]
  },
  {
   "cell_type": "code",
   "execution_count": 117,
   "metadata": {},
   "outputs": [
    {
     "name": "stdout",
     "output_type": "stream",
     "text": [
      "+--------+-----+------+------+------+-------+-------+-------+-------+-------+------+-------+-----+--------+--------+-----+-------+-------+-------+-------+-------+--------+------+------+-------+----------+-----+--------+------------+-----------+--------------------+---------+----------------+----------+--------------+--------------+--------+\n",
      "|   cicid|i94yr|i94mon|i94cit|i94res|i94port|arrdate|i94mode|i94addr|depdate|i94bir|i94visa|count|dtadfile|visapost|occup|entdepa|entdepd|entdepu|matflag|biryear| dtaddto|gender|insnum|airline|    admnum|fltno|visatype|arrival_date|depart_date|                port|port_city|port_state_short|port_state|     state_cit|     state_res|    visa|\n",
      "+--------+-----+------+------+------+-------+-------+-------+-------+-------+------+-------+-----+--------+--------+-----+-------+-------+-------+-------+-------+--------+------+------+-------+----------+-----+--------+------------+-----------+--------------------+---------+----------------+----------+--------------+--------------+--------+\n",
      "|459651.0| 2016|     4|   135|   135|    ATL|  20547|      1|     FL|  20559|    54|      2|    1|20160403|    null| null|      O|      R|   null|      M|   1962|07012016|  null|  null|     VS|2147483647|00115|      WT|  2016-04-03| 2016-04-15|ATLANTA, GA      ...|  Atlanta|              GA|   Georgia|United Kingdom|United Kingdom|Pleasure|\n",
      "|459652.0| 2016|     4|   135|   135|    ATL|  20547|      1|     FL|  20555|    74|      2|    1|20160403|    null| null|      T|      O|   null|      M|   1942|07012016|     F|  null|     VS| 674406485|  103|      WT|  2016-04-03| 2016-04-11|ATLANTA, GA      ...|  Atlanta|              GA|   Georgia|United Kingdom|United Kingdom|Pleasure|\n",
      "|459653.0| 2016|     4|   135|   135|    ATL|  20547|      1|     FL|  20557|    44|      2|    1|20160403|    null| null|      T|      Q|   null|      M|   1972|10022016|     M|  null|     VS| 674948185|  109|      B2|  2016-04-03| 2016-04-13|ATLANTA, GA      ...|  Atlanta|              GA|   Georgia|United Kingdom|United Kingdom|Pleasure|\n",
      "|459654.0| 2016|     4|   135|   135|    ATL|  20547|      1|      G|  20555|    38|      2|    1|20160403|    null| null|      O|      O|   null|      M|   1978|07012016|  null|  null|     VS|2147483647|00103|      WT|  2016-04-03| 2016-04-11|ATLANTA, GA      ...|  Atlanta|              GA|   Georgia|United Kingdom|United Kingdom|Pleasure|\n",
      "|459655.0| 2016|     4|   135|   135|    ATL|  20547|      1|     GA|   null|    64|      2|    1|20160403|    null| null|      G|   null|   null|   null|   1952|07012016|     F|  null|     VS|2147483647|00103|      WT|  2016-04-03|       null|ATLANTA, GA      ...|  Atlanta|              GA|   Georgia|United Kingdom|United Kingdom|Pleasure|\n",
      "|459656.0| 2016|     4|   135|   135|    ATL|  20547|      1|     GA|   null|    63|      2|    1|20160403|    null| null|      G|   null|   null|   null|   1953|07012016|     M|  null|     BA|2147483647|00227|      WT|  2016-04-03|       null|ATLANTA, GA      ...|  Atlanta|              GA|   Georgia|United Kingdom|United Kingdom|Pleasure|\n",
      "|459657.0| 2016|     4|   135|   135|    ATL|  20547|      1|     GA|  20548|    44|      1|    1|20160403|    null| null|      G|      I|   null|      M|   1972|07012016|     M|  null|     BA|2147483647|00227|      WB|  2016-04-03| 2016-04-04|ATLANTA, GA      ...|  Atlanta|              GA|   Georgia|United Kingdom|United Kingdom|Business|\n",
      "|459658.0| 2016|     4|   135|   135|    ATL|  20547|      1|     GA|  20548|    39|      1|    1|20160403|    null| null|      G|      I|   null|      M|   1977|07012016|     M|  null|     BA|2147483647|00227|      WB|  2016-04-03| 2016-04-04|ATLANTA, GA      ...|  Atlanta|              GA|   Georgia|United Kingdom|United Kingdom|Business|\n",
      "|459659.0| 2016|     4|   135|   135|    ATL|  20547|      1|     GA|  20573|    84|      2|    1|20160403|    null| null|      G|      I|   null|      M|   1932|07012016|     M|  null|     BA|2147483647|00227|      WT|  2016-04-03| 2016-04-29|ATLANTA, GA      ...|  Atlanta|              GA|   Georgia|United Kingdom|United Kingdom|Pleasure|\n",
      "|459660.0| 2016|     4|   135|   135|    ATL|  20547|      1|     GA|  20555|    55|      2|    1|20160403|    null| null|      G|      N|   null|      M|   1961|07012016|     M|  null|     BA|2147483647|00227|      WT|  2016-04-03| 2016-04-11|ATLANTA, GA      ...|  Atlanta|              GA|   Georgia|United Kingdom|United Kingdom|Pleasure|\n",
      "|459661.0| 2016|     4|   135|   135|    ATL|  20547|      1|     GA|  20555|    54|      2|    1|20160403|    null| null|      G|      N|   null|      M|   1962|07012016|     M|  null|     BA|2147483647|00227|      WT|  2016-04-03| 2016-04-11|ATLANTA, GA      ...|  Atlanta|              GA|   Georgia|United Kingdom|United Kingdom|Pleasure|\n",
      "|459662.0| 2016|     4|   135|   135|    ATL|  20547|      1|     GA|  20548|    36|      2|    1|20160403|    null| null|      G|      O|   null|      M|   1980|07012016|     M|  null|     DL|2147483647|00349|      WT|  2016-04-03| 2016-04-04|ATLANTA, GA      ...|  Atlanta|              GA|   Georgia|United Kingdom|United Kingdom|Pleasure|\n",
      "|459663.0| 2016|     4|   135|   135|    ATL|  20547|      1|     GA|  20549|    71|      1|    1|20160403|    null| null|      G|      O|   null|      M|   1945|07012016|     M|  null|     DL|2147483647|00031|      WB|  2016-04-03| 2016-04-05|ATLANTA, GA      ...|  Atlanta|              GA|   Georgia|United Kingdom|United Kingdom|Business|\n",
      "|459664.0| 2016|     4|   135|   135|    ATL|  20547|      1|     GA|  20549|    39|      2|    1|20160403|    null| null|      G|      O|   null|      M|   1977|07012016|     M|  null|     VS|2147483647|00109|      WT|  2016-04-03| 2016-04-05|ATLANTA, GA      ...|  Atlanta|              GA|   Georgia|United Kingdom|United Kingdom|Pleasure|\n",
      "|459665.0| 2016|     4|   135|   135|    ATL|  20547|      1|     GA|  20550|    54|      1|    1|20160403|    null| null|      G|      O|   null|      M|   1962|07012016|     M|  null|     BA|2147483647|00227|      WB|  2016-04-03| 2016-04-06|ATLANTA, GA      ...|  Atlanta|              GA|   Georgia|United Kingdom|United Kingdom|Business|\n",
      "|459666.0| 2016|     4|   135|   135|    ATL|  20547|      1|     GA|  20550|    51|      1|    1|20160403|    null| null|      G|      O|   null|      M|   1965|07012016|     M|  null|     BA|2147483647|00227|      WB|  2016-04-03| 2016-04-06|ATLANTA, GA      ...|  Atlanta|              GA|   Georgia|United Kingdom|United Kingdom|Business|\n",
      "|459667.0| 2016|     4|   135|   135|    ATL|  20547|      1|     GA|  20550|    43|      1|    1|20160403|    null| null|      G|      O|   null|      M|   1973|07012016|     M|  null|     DL|2147483647|00031|      WB|  2016-04-03| 2016-04-06|ATLANTA, GA      ...|  Atlanta|              GA|   Georgia|United Kingdom|United Kingdom|Business|\n",
      "|459668.0| 2016|     4|   135|   135|    ATL|  20547|      1|     GA|  20550|    37|      1|    1|20160403|    null| null|      G|      O|   null|      M|   1979|07012016|     F|  null|     DL|2147483647|00029|      WB|  2016-04-03| 2016-04-06|ATLANTA, GA      ...|  Atlanta|              GA|   Georgia|United Kingdom|United Kingdom|Business|\n",
      "|459669.0| 2016|     4|   135|   135|    ATL|  20547|      1|     GA|  20550|    33|      1|    1|20160403|    null| null|      G|      O|   null|      M|   1983|07012016|     F|  null|     VS|2147483647|00109|      WB|  2016-04-03| 2016-04-06|ATLANTA, GA      ...|  Atlanta|              GA|   Georgia|United Kingdom|United Kingdom|Business|\n",
      "|459670.0| 2016|     4|   135|   135|    ATL|  20547|      1|     GA|  20550|    50|      1|    1|20160403|    null| null|      G|      O|   null|      M|   1966|07012016|     M|  null|     DL|2147483647|00031|      WB|  2016-04-03| 2016-04-06|ATLANTA, GA      ...|  Atlanta|              GA|   Georgia|United Kingdom|United Kingdom|Business|\n",
      "+--------+-----+------+------+------+-------+-------+-------+-------+-------+------+-------+-----+--------+--------+-----+-------+-------+-------+-------+-------+--------+------+------+-------+----------+-----+--------+------------+-----------+--------------------+---------+----------------+----------+--------------+--------------+--------+\n",
      "only showing top 20 rows\n",
      "\n"
     ]
    }
   ],
   "source": [
    "df_test.where(F.col(\"port_state\").isNotNull()).show()"
   ]
  },
  {
   "cell_type": "markdown",
   "metadata": {},
   "source": [
    "Is arrdate ever null?"
   ]
  },
  {
   "cell_type": "code",
   "execution_count": 118,
   "metadata": {},
   "outputs": [
    {
     "name": "stdout",
     "output_type": "stream",
     "text": [
      "+-----+-----+------+------+------+-------+-------+-------+-------+-------+------+-------+-----+--------+--------+-----+-------+-------+-------+-------+-------+-------+------+------+-------+------+-----+--------+------------+-----------+----+---------+----------------+----------+---------+---------+----+\n",
      "|cicid|i94yr|i94mon|i94cit|i94res|i94port|arrdate|i94mode|i94addr|depdate|i94bir|i94visa|count|dtadfile|visapost|occup|entdepa|entdepd|entdepu|matflag|biryear|dtaddto|gender|insnum|airline|admnum|fltno|visatype|arrival_date|depart_date|port|port_city|port_state_short|port_state|state_cit|state_res|visa|\n",
      "+-----+-----+------+------+------+-------+-------+-------+-------+-------+------+-------+-----+--------+--------+-----+-------+-------+-------+-------+-------+-------+------+------+-------+------+-----+--------+------------+-----------+----+---------+----------------+----------+---------+---------+----+\n",
      "+-----+-----+------+------+------+-------+-------+-------+-------+-------+------+-------+-----+--------+--------+-----+-------+-------+-------+-------+-------+-------+------+------+-------+------+-----+--------+------------+-----------+----+---------+----------------+----------+---------+---------+----+\n",
      "\n"
     ]
    }
   ],
   "source": [
    "df_test.where(F.col(\"arrdate\").isNull()).show()"
   ]
  },
  {
   "cell_type": "markdown",
   "metadata": {},
   "source": [
    "# merge with demographic data"
   ]
  },
  {
   "cell_type": "code",
   "execution_count": 119,
   "metadata": {},
   "outputs": [],
   "source": [
    "demographic = pd.read_csv(os.path.join(DATAFOLDER, 'us-cities-demographics.csv'), sep=';')"
   ]
  },
  {
   "cell_type": "code",
   "execution_count": 120,
   "metadata": {},
   "outputs": [
    {
     "data": {
      "text/html": [
       "<div>\n",
       "<style scoped>\n",
       "    .dataframe tbody tr th:only-of-type {\n",
       "        vertical-align: middle;\n",
       "    }\n",
       "\n",
       "    .dataframe tbody tr th {\n",
       "        vertical-align: top;\n",
       "    }\n",
       "\n",
       "    .dataframe thead th {\n",
       "        text-align: right;\n",
       "    }\n",
       "</style>\n",
       "<table border=\"1\" class=\"dataframe\">\n",
       "  <thead>\n",
       "    <tr style=\"text-align: right;\">\n",
       "      <th></th>\n",
       "      <th>City</th>\n",
       "      <th>State</th>\n",
       "      <th>Median Age</th>\n",
       "      <th>Male Population</th>\n",
       "      <th>Female Population</th>\n",
       "      <th>Total Population</th>\n",
       "      <th>Number of Veterans</th>\n",
       "      <th>Foreign-born</th>\n",
       "      <th>Average Household Size</th>\n",
       "      <th>State Code</th>\n",
       "      <th>Race</th>\n",
       "      <th>Count</th>\n",
       "    </tr>\n",
       "  </thead>\n",
       "  <tbody>\n",
       "    <tr>\n",
       "      <th>0</th>\n",
       "      <td>Newark</td>\n",
       "      <td>New Jersey</td>\n",
       "      <td>34.6</td>\n",
       "      <td>138040.0</td>\n",
       "      <td>143873.0</td>\n",
       "      <td>281913</td>\n",
       "      <td>5829.0</td>\n",
       "      <td>86253.0</td>\n",
       "      <td>2.73</td>\n",
       "      <td>NJ</td>\n",
       "      <td>White</td>\n",
       "      <td>76402</td>\n",
       "    </tr>\n",
       "    <tr>\n",
       "      <th>1</th>\n",
       "      <td>Peoria</td>\n",
       "      <td>Illinois</td>\n",
       "      <td>33.1</td>\n",
       "      <td>56229.0</td>\n",
       "      <td>62432.0</td>\n",
       "      <td>118661</td>\n",
       "      <td>6634.0</td>\n",
       "      <td>7517.0</td>\n",
       "      <td>2.40</td>\n",
       "      <td>IL</td>\n",
       "      <td>American Indian and Alaska Native</td>\n",
       "      <td>1343</td>\n",
       "    </tr>\n",
       "    <tr>\n",
       "      <th>2</th>\n",
       "      <td>O'Fallon</td>\n",
       "      <td>Missouri</td>\n",
       "      <td>36.0</td>\n",
       "      <td>41762.0</td>\n",
       "      <td>43270.0</td>\n",
       "      <td>85032</td>\n",
       "      <td>5783.0</td>\n",
       "      <td>3269.0</td>\n",
       "      <td>2.77</td>\n",
       "      <td>MO</td>\n",
       "      <td>Hispanic or Latino</td>\n",
       "      <td>2583</td>\n",
       "    </tr>\n",
       "    <tr>\n",
       "      <th>3</th>\n",
       "      <td>Hampton</td>\n",
       "      <td>Virginia</td>\n",
       "      <td>35.5</td>\n",
       "      <td>66214.0</td>\n",
       "      <td>70240.0</td>\n",
       "      <td>136454</td>\n",
       "      <td>19638.0</td>\n",
       "      <td>6204.0</td>\n",
       "      <td>2.48</td>\n",
       "      <td>VA</td>\n",
       "      <td>Black or African-American</td>\n",
       "      <td>70303</td>\n",
       "    </tr>\n",
       "    <tr>\n",
       "      <th>4</th>\n",
       "      <td>Lakewood</td>\n",
       "      <td>Colorado</td>\n",
       "      <td>37.7</td>\n",
       "      <td>76013.0</td>\n",
       "      <td>76576.0</td>\n",
       "      <td>152589</td>\n",
       "      <td>9988.0</td>\n",
       "      <td>14169.0</td>\n",
       "      <td>2.29</td>\n",
       "      <td>CO</td>\n",
       "      <td>Hispanic or Latino</td>\n",
       "      <td>33630</td>\n",
       "    </tr>\n",
       "    <tr>\n",
       "      <th>...</th>\n",
       "      <td>...</td>\n",
       "      <td>...</td>\n",
       "      <td>...</td>\n",
       "      <td>...</td>\n",
       "      <td>...</td>\n",
       "      <td>...</td>\n",
       "      <td>...</td>\n",
       "      <td>...</td>\n",
       "      <td>...</td>\n",
       "      <td>...</td>\n",
       "      <td>...</td>\n",
       "      <td>...</td>\n",
       "    </tr>\n",
       "    <tr>\n",
       "      <th>2886</th>\n",
       "      <td>Allen</td>\n",
       "      <td>Pennsylvania</td>\n",
       "      <td>33.5</td>\n",
       "      <td>60626.0</td>\n",
       "      <td>59581.0</td>\n",
       "      <td>120207</td>\n",
       "      <td>5691.0</td>\n",
       "      <td>19652.0</td>\n",
       "      <td>2.67</td>\n",
       "      <td>PA</td>\n",
       "      <td>American Indian and Alaska Native</td>\n",
       "      <td>1076</td>\n",
       "    </tr>\n",
       "    <tr>\n",
       "      <th>2887</th>\n",
       "      <td>German</td>\n",
       "      <td>Maryland</td>\n",
       "      <td>34.9</td>\n",
       "      <td>41115.0</td>\n",
       "      <td>43007.0</td>\n",
       "      <td>84122</td>\n",
       "      <td>2443.0</td>\n",
       "      <td>27877.0</td>\n",
       "      <td>2.95</td>\n",
       "      <td>MD</td>\n",
       "      <td>White</td>\n",
       "      <td>43330</td>\n",
       "    </tr>\n",
       "    <tr>\n",
       "      <th>2888</th>\n",
       "      <td>Pittsburg</td>\n",
       "      <td>California</td>\n",
       "      <td>34.5</td>\n",
       "      <td>33309.0</td>\n",
       "      <td>36118.0</td>\n",
       "      <td>69427</td>\n",
       "      <td>2109.0</td>\n",
       "      <td>21043.0</td>\n",
       "      <td>3.15</td>\n",
       "      <td>CA</td>\n",
       "      <td>White</td>\n",
       "      <td>25996</td>\n",
       "    </tr>\n",
       "    <tr>\n",
       "      <th>2889</th>\n",
       "      <td>New Bedford</td>\n",
       "      <td>Massachusetts</td>\n",
       "      <td>38.6</td>\n",
       "      <td>43793.0</td>\n",
       "      <td>51166.0</td>\n",
       "      <td>94959</td>\n",
       "      <td>4185.0</td>\n",
       "      <td>19024.0</td>\n",
       "      <td>2.39</td>\n",
       "      <td>MA</td>\n",
       "      <td>Black or African-American</td>\n",
       "      <td>8890</td>\n",
       "    </tr>\n",
       "    <tr>\n",
       "      <th>2890</th>\n",
       "      <td>Carlsbad</td>\n",
       "      <td>California</td>\n",
       "      <td>42.1</td>\n",
       "      <td>55119.0</td>\n",
       "      <td>58347.0</td>\n",
       "      <td>113466</td>\n",
       "      <td>6031.0</td>\n",
       "      <td>17689.0</td>\n",
       "      <td>2.68</td>\n",
       "      <td>CA</td>\n",
       "      <td>Hispanic or Latino</td>\n",
       "      <td>12969</td>\n",
       "    </tr>\n",
       "  </tbody>\n",
       "</table>\n",
       "<p>2891 rows × 12 columns</p>\n",
       "</div>"
      ],
      "text/plain": [
       "             City          State  Median Age  Male Population  \\\n",
       "0          Newark     New Jersey        34.6         138040.0   \n",
       "1          Peoria       Illinois        33.1          56229.0   \n",
       "2        O'Fallon       Missouri        36.0          41762.0   \n",
       "3         Hampton       Virginia        35.5          66214.0   \n",
       "4        Lakewood       Colorado        37.7          76013.0   \n",
       "...           ...            ...         ...              ...   \n",
       "2886        Allen   Pennsylvania        33.5          60626.0   \n",
       "2887       German       Maryland        34.9          41115.0   \n",
       "2888    Pittsburg     California        34.5          33309.0   \n",
       "2889  New Bedford  Massachusetts        38.6          43793.0   \n",
       "2890     Carlsbad     California        42.1          55119.0   \n",
       "\n",
       "      Female Population  Total Population  Number of Veterans  Foreign-born  \\\n",
       "0              143873.0            281913              5829.0       86253.0   \n",
       "1               62432.0            118661              6634.0        7517.0   \n",
       "2               43270.0             85032              5783.0        3269.0   \n",
       "3               70240.0            136454             19638.0        6204.0   \n",
       "4               76576.0            152589              9988.0       14169.0   \n",
       "...                 ...               ...                 ...           ...   \n",
       "2886            59581.0            120207              5691.0       19652.0   \n",
       "2887            43007.0             84122              2443.0       27877.0   \n",
       "2888            36118.0             69427              2109.0       21043.0   \n",
       "2889            51166.0             94959              4185.0       19024.0   \n",
       "2890            58347.0            113466              6031.0       17689.0   \n",
       "\n",
       "      Average Household Size State Code                               Race  \\\n",
       "0                       2.73         NJ                              White   \n",
       "1                       2.40         IL  American Indian and Alaska Native   \n",
       "2                       2.77         MO                 Hispanic or Latino   \n",
       "3                       2.48         VA          Black or African-American   \n",
       "4                       2.29         CO                 Hispanic or Latino   \n",
       "...                      ...        ...                                ...   \n",
       "2886                    2.67         PA  American Indian and Alaska Native   \n",
       "2887                    2.95         MD                              White   \n",
       "2888                    3.15         CA                              White   \n",
       "2889                    2.39         MA          Black or African-American   \n",
       "2890                    2.68         CA                 Hispanic or Latino   \n",
       "\n",
       "      Count  \n",
       "0     76402  \n",
       "1      1343  \n",
       "2      2583  \n",
       "3     70303  \n",
       "4     33630  \n",
       "...     ...  \n",
       "2886   1076  \n",
       "2887  43330  \n",
       "2888  25996  \n",
       "2889   8890  \n",
       "2890  12969  \n",
       "\n",
       "[2891 rows x 12 columns]"
      ]
     },
     "execution_count": 120,
     "metadata": {},
     "output_type": "execute_result"
    }
   ],
   "source": [
    "demographic"
   ]
  },
  {
   "cell_type": "markdown",
   "metadata": {},
   "source": [
    "match airport with demographic table"
   ]
  },
  {
   "cell_type": "code",
   "execution_count": null,
   "metadata": {},
   "outputs": [],
   "source": [
    "# look up unique combinations of city and state in fact table\n",
    "# "
   ]
  },
  {
   "cell_type": "code",
   "execution_count": null,
   "metadata": {},
   "outputs": [],
   "source": [
    "# subset with unique combinations of city, state and \n",
    "# port_city, port_state, i94port (as key )"
   ]
  },
  {
   "cell_type": "code",
   "execution_count": 81,
   "metadata": {},
   "outputs": [
    {
     "name": "stdout",
     "output_type": "stream",
     "text": [
      "+--------+-----+------+------+------+-------+-------+-------+-------+-------+------+-------+-----+--------+--------+-----+-------+-------+-------+-------+-------+--------+------+------+-------+----------+-----+--------+-----------+--------------------+---------+----------+--------------+--------------+--------+--------+\n",
      "|   cicid|i94yr|i94mon|i94cit|i94res|i94port|arrdate|i94mode|i94addr|depdate|i94bir|i94visa|count|dtadfile|visapost|occup|entdepa|entdepd|entdepu|matflag|biryear| dtaddto|gender|insnum|airline|    admnum|fltno|visatype|depart_date|                port|port_city|port_state|     state_cit|     state_res|us_state|    visa|\n",
      "+--------+-----+------+------+------+-------+-------+-------+-------+-------+------+-------+-----+--------+--------+-----+-------+-------+-------+-------+-------+--------+------+------+-------+----------+-----+--------+-----------+--------------------+---------+----------+--------------+--------------+--------+--------+\n",
      "|459651.0| 2016|     4|   135|   135|    ATL|  20547|      1|     FL|  20559|    54|      2|    1|20160403|    null| null|      O|      R|   null|      M|   1962|07012016|  null|  null|     VS|2147483647|00115|      WT| 2016-04-15|ATLANTA, GA      ...|  Atlanta|   Atlanta|UNITED KINGDOM|UNITED KINGDOM| FLORIDA|Pleasure|\n",
      "|459652.0| 2016|     4|   135|   135|    ATL|  20547|      1|     FL|  20555|    74|      2|    1|20160403|    null| null|      T|      O|   null|      M|   1942|07012016|     F|  null|     VS| 674406485|  103|      WT| 2016-04-11|ATLANTA, GA      ...|  Atlanta|   Atlanta|UNITED KINGDOM|UNITED KINGDOM| FLORIDA|Pleasure|\n",
      "|459653.0| 2016|     4|   135|   135|    ATL|  20547|      1|     FL|  20557|    44|      2|    1|20160403|    null| null|      T|      Q|   null|      M|   1972|10022016|     M|  null|     VS| 674948185|  109|      B2| 2016-04-13|ATLANTA, GA      ...|  Atlanta|   Atlanta|UNITED KINGDOM|UNITED KINGDOM| FLORIDA|Pleasure|\n",
      "|459654.0| 2016|     4|   135|   135|    ATL|  20547|      1|      G|  20555|    38|      2|    1|20160403|    null| null|      O|      O|   null|      M|   1978|07012016|  null|  null|     VS|2147483647|00103|      WT| 2016-04-11|ATLANTA, GA      ...|  Atlanta|   Atlanta|UNITED KINGDOM|UNITED KINGDOM|    null|Pleasure|\n",
      "|459655.0| 2016|     4|   135|   135|    ATL|  20547|      1|     GA|   null|    64|      2|    1|20160403|    null| null|      G|   null|   null|   null|   1952|07012016|     F|  null|     VS|2147483647|00103|      WT|       null|ATLANTA, GA      ...|  Atlanta|   Atlanta|UNITED KINGDOM|UNITED KINGDOM| GEORGIA|Pleasure|\n",
      "|459656.0| 2016|     4|   135|   135|    ATL|  20547|      1|     GA|   null|    63|      2|    1|20160403|    null| null|      G|   null|   null|   null|   1953|07012016|     M|  null|     BA|2147483647|00227|      WT|       null|ATLANTA, GA      ...|  Atlanta|   Atlanta|UNITED KINGDOM|UNITED KINGDOM| GEORGIA|Pleasure|\n",
      "|459657.0| 2016|     4|   135|   135|    ATL|  20547|      1|     GA|  20548|    44|      1|    1|20160403|    null| null|      G|      I|   null|      M|   1972|07012016|     M|  null|     BA|2147483647|00227|      WB| 2016-04-04|ATLANTA, GA      ...|  Atlanta|   Atlanta|UNITED KINGDOM|UNITED KINGDOM| GEORGIA|Business|\n",
      "|459658.0| 2016|     4|   135|   135|    ATL|  20547|      1|     GA|  20548|    39|      1|    1|20160403|    null| null|      G|      I|   null|      M|   1977|07012016|     M|  null|     BA|2147483647|00227|      WB| 2016-04-04|ATLANTA, GA      ...|  Atlanta|   Atlanta|UNITED KINGDOM|UNITED KINGDOM| GEORGIA|Business|\n",
      "|459659.0| 2016|     4|   135|   135|    ATL|  20547|      1|     GA|  20573|    84|      2|    1|20160403|    null| null|      G|      I|   null|      M|   1932|07012016|     M|  null|     BA|2147483647|00227|      WT| 2016-04-29|ATLANTA, GA      ...|  Atlanta|   Atlanta|UNITED KINGDOM|UNITED KINGDOM| GEORGIA|Pleasure|\n",
      "|459660.0| 2016|     4|   135|   135|    ATL|  20547|      1|     GA|  20555|    55|      2|    1|20160403|    null| null|      G|      N|   null|      M|   1961|07012016|     M|  null|     BA|2147483647|00227|      WT| 2016-04-11|ATLANTA, GA      ...|  Atlanta|   Atlanta|UNITED KINGDOM|UNITED KINGDOM| GEORGIA|Pleasure|\n",
      "|459661.0| 2016|     4|   135|   135|    ATL|  20547|      1|     GA|  20555|    54|      2|    1|20160403|    null| null|      G|      N|   null|      M|   1962|07012016|     M|  null|     BA|2147483647|00227|      WT| 2016-04-11|ATLANTA, GA      ...|  Atlanta|   Atlanta|UNITED KINGDOM|UNITED KINGDOM| GEORGIA|Pleasure|\n",
      "|459662.0| 2016|     4|   135|   135|    ATL|  20547|      1|     GA|  20548|    36|      2|    1|20160403|    null| null|      G|      O|   null|      M|   1980|07012016|     M|  null|     DL|2147483647|00349|      WT| 2016-04-04|ATLANTA, GA      ...|  Atlanta|   Atlanta|UNITED KINGDOM|UNITED KINGDOM| GEORGIA|Pleasure|\n",
      "|459663.0| 2016|     4|   135|   135|    ATL|  20547|      1|     GA|  20549|    71|      1|    1|20160403|    null| null|      G|      O|   null|      M|   1945|07012016|     M|  null|     DL|2147483647|00031|      WB| 2016-04-05|ATLANTA, GA      ...|  Atlanta|   Atlanta|UNITED KINGDOM|UNITED KINGDOM| GEORGIA|Business|\n",
      "|459664.0| 2016|     4|   135|   135|    ATL|  20547|      1|     GA|  20549|    39|      2|    1|20160403|    null| null|      G|      O|   null|      M|   1977|07012016|     M|  null|     VS|2147483647|00109|      WT| 2016-04-05|ATLANTA, GA      ...|  Atlanta|   Atlanta|UNITED KINGDOM|UNITED KINGDOM| GEORGIA|Pleasure|\n",
      "|459665.0| 2016|     4|   135|   135|    ATL|  20547|      1|     GA|  20550|    54|      1|    1|20160403|    null| null|      G|      O|   null|      M|   1962|07012016|     M|  null|     BA|2147483647|00227|      WB| 2016-04-06|ATLANTA, GA      ...|  Atlanta|   Atlanta|UNITED KINGDOM|UNITED KINGDOM| GEORGIA|Business|\n",
      "|459666.0| 2016|     4|   135|   135|    ATL|  20547|      1|     GA|  20550|    51|      1|    1|20160403|    null| null|      G|      O|   null|      M|   1965|07012016|     M|  null|     BA|2147483647|00227|      WB| 2016-04-06|ATLANTA, GA      ...|  Atlanta|   Atlanta|UNITED KINGDOM|UNITED KINGDOM| GEORGIA|Business|\n",
      "|459667.0| 2016|     4|   135|   135|    ATL|  20547|      1|     GA|  20550|    43|      1|    1|20160403|    null| null|      G|      O|   null|      M|   1973|07012016|     M|  null|     DL|2147483647|00031|      WB| 2016-04-06|ATLANTA, GA      ...|  Atlanta|   Atlanta|UNITED KINGDOM|UNITED KINGDOM| GEORGIA|Business|\n",
      "|459668.0| 2016|     4|   135|   135|    ATL|  20547|      1|     GA|  20550|    37|      1|    1|20160403|    null| null|      G|      O|   null|      M|   1979|07012016|     F|  null|     DL|2147483647|00029|      WB| 2016-04-06|ATLANTA, GA      ...|  Atlanta|   Atlanta|UNITED KINGDOM|UNITED KINGDOM| GEORGIA|Business|\n",
      "|459669.0| 2016|     4|   135|   135|    ATL|  20547|      1|     GA|  20550|    33|      1|    1|20160403|    null| null|      G|      O|   null|      M|   1983|07012016|     F|  null|     VS|2147483647|00109|      WB| 2016-04-06|ATLANTA, GA      ...|  Atlanta|   Atlanta|UNITED KINGDOM|UNITED KINGDOM| GEORGIA|Business|\n",
      "|459670.0| 2016|     4|   135|   135|    ATL|  20547|      1|     GA|  20550|    50|      1|    1|20160403|    null| null|      G|      O|   null|      M|   1966|07012016|     M|  null|     DL|2147483647|00031|      WB| 2016-04-06|ATLANTA, GA      ...|  Atlanta|   Atlanta|UNITED KINGDOM|UNITED KINGDOM| GEORGIA|Business|\n",
      "+--------+-----+------+------+------+-------+-------+-------+-------+-------+------+-------+-----+--------+--------+-----+-------+-------+-------+-------+-------+--------+------+------+-------+----------+-----+--------+-----------+--------------------+---------+----------+--------------+--------------+--------+--------+\n",
      "only showing top 20 rows\n",
      "\n"
     ]
    }
   ],
   "source": [
    "df_test.show()"
   ]
  },
  {
   "cell_type": "code",
   "execution_count": null,
   "metadata": {},
   "outputs": [],
   "source": [
    "df_intermediate = df_test.select()"
   ]
  },
  {
   "cell_type": "code",
   "execution_count": null,
   "metadata": {},
   "outputs": [],
   "source": []
  },
  {
   "cell_type": "markdown",
   "metadata": {},
   "source": [
    "# create single tables for everything"
   ]
  },
  {
   "cell_type": "code",
   "execution_count": null,
   "metadata": {},
   "outputs": [],
   "source": []
  }
 ],
 "metadata": {
  "kernelspec": {
   "display_name": "Python 3",
   "language": "python",
   "name": "python3"
  },
  "language_info": {
   "codemirror_mode": {
    "name": "ipython",
    "version": 3
   },
   "file_extension": ".py",
   "mimetype": "text/x-python",
   "name": "python",
   "nbconvert_exporter": "python",
   "pygments_lexer": "ipython3",
   "version": "3.7.2"
  }
 },
 "nbformat": 4,
 "nbformat_minor": 2
}
